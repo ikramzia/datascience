{
 "cells": [
  {
   "cell_type": "markdown",
   "id": "91dede3b",
   "metadata": {},
   "source": [
    "# Regular Expressions Practice\n",
    "by --- Mohammed Ikramuddin"
   ]
  },
  {
   "cell_type": "code",
   "execution_count": null,
   "id": "36376e6a",
   "metadata": {},
   "outputs": [],
   "source": []
  },
  {
   "cell_type": "markdown",
   "id": "09087229",
   "metadata": {},
   "source": [
    "1) Write a Python program to replace all occurrences of a space, comma, or dot with a colon."
   ]
  },
  {
   "cell_type": "markdown",
   "id": "28ace717",
   "metadata": {},
   "source": [
    "Sample Text- 'Python Exercises, PHP exercises.'"
   ]
  },
  {
   "cell_type": "markdown",
   "id": "5af21759",
   "metadata": {},
   "source": [
    "Expected Output: Python:Exercises::PHP:exercises:"
   ]
  },
  {
   "cell_type": "code",
   "execution_count": 207,
   "id": "376e8743",
   "metadata": {},
   "outputs": [
    {
     "name": "stdout",
     "output_type": "stream",
     "text": [
      "Replacing space, comma and dot with Colon we get in --> \"Python Exercises, PHP exercises.\"\n",
      "\n",
      "Python:Exercises::PHP:exercises:\n"
     ]
    }
   ],
   "source": [
    "import re #importing Regular Expressions Library\n",
    "\n",
    "sampletext1 = 'Python Exercises, PHP exercises.' #Sample text with space, comma and dot\n",
    "\n",
    "#sampletext = input(\"Enter any text with space, comma and dot: \") #input sapmle text from user\n",
    "\n",
    "print('Replacing space, comma and dot with Colon we get in --> \"%s\"\\n'%sampletext1)\n",
    "\n",
    "print(re.sub(\"[ ,.]\", \":\", sampletext1)) #Replacing with colon using RE sub method"
   ]
  },
  {
   "cell_type": "code",
   "execution_count": null,
   "id": "617520bb",
   "metadata": {},
   "outputs": [],
   "source": []
  },
  {
   "cell_type": "markdown",
   "id": "5da60ec7",
   "metadata": {},
   "source": [
    "2. Create a dataframe using the dictionary below and remove everything (commas (,), !, XXXX, ;, etc.) from the columns except words."
   ]
  },
  {
   "cell_type": "markdown",
   "id": "45c91dc9",
   "metadata": {},
   "source": [
    "Dictionary- {'SUMMARY' : ['hello, world!', 'XXXXX test', '123four, five:; six...']}"
   ]
  },
  {
   "cell_type": "markdown",
   "id": "c2aade1a",
   "metadata": {},
   "source": [
    "Expected output-\n",
    "0      hello world\n",
    "1             test\n",
    "2    four five six"
   ]
  },
  {
   "cell_type": "code",
   "execution_count": 209,
   "id": "0ed3bdc3",
   "metadata": {},
   "outputs": [
    {
     "name": "stdout",
     "output_type": "stream",
     "text": [
      "Removing everything (commas (,), !, XXXX, ;, etc.) from the columns except words from --> \"{'SUMMARY': ['hello, world!', 'XXXXX test', '123four, five:; six...']}\n",
      "\"\n",
      "0    hello world\n",
      "1           test\n",
      "2  four five six\n"
     ]
    }
   ],
   "source": [
    "import re #importing Regular Expressions Library\n",
    "\n",
    "import pandas as pd #importing pandas library\n",
    "\n",
    "dict1= {'SUMMARY' : ['hello, world!', 'XXXXX test', '123four, five:; six...']} #Creating dictionary\n",
    "\n",
    "print('Removing everything (commas (,), !, XXXX, ;, etc.) from the columns except words from --> \"%s\\n\"'%dict1)\n",
    "\n",
    "df1=pd.DataFrame(dict1) #Creating dataframe\n",
    "\n",
    "df1['SUMMARY'] = df1['SUMMARY'].str.replace('[^a-zA-Z\\s]', '', regex=True) #Removing everything except Words\n",
    "\n",
    "df1['SUMMARY'] = df1['SUMMARY'].replace('X', '', regex=True) #Removing X except Words\n",
    "\n",
    "print(df1.to_string(header=False)) #Output"
   ]
  },
  {
   "cell_type": "code",
   "execution_count": null,
   "id": "93936a64",
   "metadata": {},
   "outputs": [],
   "source": []
  },
  {
   "cell_type": "markdown",
   "id": "bfff0581",
   "metadata": {},
   "source": [
    "3. Create a function in python to find all words that are at least 4 characters long in a string. The use of the re.compile() method is mandatory."
   ]
  },
  {
   "cell_type": "code",
   "execution_count": 219,
   "id": "1c160e9b",
   "metadata": {},
   "outputs": [
    {
     "name": "stdout",
     "output_type": "stream",
     "text": [
      "Finding all words that are at least 4 characters long in --> \"very powerful speech, it was good\"\n",
      "\n",
      "['very', 'good']\n"
     ]
    }
   ],
   "source": [
    "import re  # importing Regular Expressions Library\n",
    "\n",
    "sampletext3 = 'very powerful speech, it was good'\n",
    "\n",
    "def find4charword(str3):  # defining the function to find 4 characters word in a string\n",
    "    \n",
    "    regex_pattern = re.compile(r\"\\b\\w{4}\\b\")  \n",
    "    \n",
    "    match4char = regex_pattern.findall(str3)  \n",
    "    \n",
    "    return match4char\n",
    "\n",
    "print('Finding all words that are at least 4 characters long in --> \"%s\"\\n'%sampletext3)\n",
    "\n",
    "print(find4charword(sampletext3)) #Print 4 letter words"
   ]
  },
  {
   "cell_type": "code",
   "execution_count": null,
   "id": "62665c8b",
   "metadata": {},
   "outputs": [],
   "source": []
  },
  {
   "cell_type": "markdown",
   "id": "42aeb67e",
   "metadata": {},
   "source": [
    "4. Create a function in python to find all three, four, and five character words in a string. The use of the re.compile() method is mandatory."
   ]
  },
  {
   "cell_type": "code",
   "execution_count": 218,
   "id": "529e8425",
   "metadata": {},
   "outputs": [
    {
     "name": "stdout",
     "output_type": "stream",
     "text": [
      "Finding all three, four, and five character words in --> \"very powerful speech, it was good match\"\n",
      "\n",
      "['very', 'was', 'good', 'match']\n"
     ]
    }
   ],
   "source": [
    "import re  # importing Regular Expressions Library\n",
    "\n",
    "sampletext4 = 'very powerful speech, it was good match'\n",
    "\n",
    "def find345charword(str4):  # defining the function to find 3,4,5 characters word in a string\n",
    "    \n",
    "    regex_pattern = re.compile(r\"\\b\\w{3,5}\\b\")  \n",
    "    \n",
    "    match345char = regex_pattern.findall(str4)  \n",
    "    \n",
    "    return match345char\n",
    "\n",
    "print('Finding all three, four, and five character words in --> \"%s\"\\n'%sampletext4)\n",
    "\n",
    "print(find345charword(sampletext4)) #Print 3,4,5 letter words"
   ]
  },
  {
   "cell_type": "code",
   "execution_count": null,
   "id": "06b0985e",
   "metadata": {},
   "outputs": [],
   "source": []
  },
  {
   "cell_type": "markdown",
   "id": "04bf995f",
   "metadata": {},
   "source": [
    "5. Create a function in Python to remove the parenthesis in a list of strings. The use of the re.compile() method is mandatory."
   ]
  },
  {
   "cell_type": "markdown",
   "id": "9e07958b",
   "metadata": {},
   "source": [
    "Sample Text: [\"example (.com)\", \"hr@fliprobo (.com)\", \"github (.com)\", \"Hello (Data Science World)\", \"Data (Scientist)\"]"
   ]
  },
  {
   "cell_type": "markdown",
   "id": "155b6bdc",
   "metadata": {},
   "source": [
    "Expected Output:\n",
    "example.com\n",
    "hr@fliprobo.com\n",
    "github.com\n",
    "Hello Data Science World\n",
    "Data Scientist"
   ]
  },
  {
   "cell_type": "code",
   "execution_count": 221,
   "id": "97bcdddf",
   "metadata": {},
   "outputs": [
    {
     "name": "stdout",
     "output_type": "stream",
     "text": [
      "Removing parenthesis in the list --> ['example (.com)', 'hr@fliprobo (.com)', 'github (.com)', 'Hello (Data Science World)', 'Data (Scientist)']\n",
      "\n",
      "example .com \n",
      "\n",
      "hr@fliprobo .com \n",
      "\n",
      "github .com \n",
      "\n",
      "Hello Data Science World \n",
      "\n",
      "Data Scientist \n",
      "\n"
     ]
    }
   ],
   "source": [
    "import re  # importing Regular Expressions Library\n",
    "\n",
    "sampletext5 = [\"example (.com)\", \"hr@fliprobo (.com)\", \"github (.com)\", \"Hello (Data Science World)\", \"Data (Scientist)\"]\n",
    "\n",
    "def remove_parentheses(strings5): # defining function to remove parantheses from the string\n",
    "    \n",
    "    regex_pattern = re.compile(r\"[()]\")\n",
    "    \n",
    "    newstrings = []\n",
    "    \n",
    "    for i in strings5:\n",
    "        \n",
    "        newstring = re.sub(regex_pattern, \"\", i)\n",
    "        \n",
    "        newstrings.append(newstring)\n",
    "        \n",
    "    return newstrings\n",
    "\n",
    "\n",
    "print('Removing parenthesis in the list --> %s\\n'%sampletext5)\n",
    "\n",
    "result = remove_parentheses(sampletext5)\n",
    "\n",
    "for k in result:\n",
    "    \n",
    "    print(k,'\\n')"
   ]
  },
  {
   "cell_type": "code",
   "execution_count": null,
   "id": "77ed3a48",
   "metadata": {},
   "outputs": [],
   "source": []
  },
  {
   "cell_type": "markdown",
   "id": "ca318408",
   "metadata": {},
   "source": [
    "6. Write a python program to remove the parenthesis area from the text stored in the text file using Regular Expression."
   ]
  },
  {
   "cell_type": "markdown",
   "id": "cf9681ce",
   "metadata": {},
   "source": [
    "Sample Text: [\"example (.com)\", \"hr@fliprobo (.com)\", \"github (.com)\", \"Hello (Data Science World)\", \"Data (Scientist)\"]"
   ]
  },
  {
   "cell_type": "markdown",
   "id": "c2a44be1",
   "metadata": {},
   "source": [
    "Expected Output: [\"example\", \"hr@fliprobo\", \"github\", \"Hello\", \"Data\"]"
   ]
  },
  {
   "cell_type": "markdown",
   "id": "272d8298",
   "metadata": {},
   "source": [
    "Note- Store given sample text in the text file and then to remove the parenthesis area from the text."
   ]
  },
  {
   "cell_type": "code",
   "execution_count": 222,
   "id": "4ae5560b",
   "metadata": {},
   "outputs": [
    {
     "name": "stdout",
     "output_type": "stream",
     "text": [
      "Removnig parenthesis area from the text stored in the text file --> ['example (.com)', 'hr@fliprobo (.com)', 'github (.com)', 'Hello (Data Science World)', 'Data (Scientist)']\n",
      "\n",
      "['example ', 'hr@fliprobo ', 'github ', 'Hello ', 'Data ']\n"
     ]
    }
   ],
   "source": [
    "import re  # importing Regular Expressions Library\n",
    "\n",
    "sampletext6 = [\"example (.com)\", \"hr@fliprobo (.com)\", \"github (.com)\", \"Hello (Data Science World)\", \"Data (Scientist)\"]\n",
    "\n",
    "\n",
    "with open('myfile.txt', 'w+') as file:\n",
    "    \n",
    "    data_to_write = '\\n'.join(sampletext3)\n",
    "    \n",
    "    file.write(data_to_write)\n",
    "    \n",
    "file.close()\n",
    "\n",
    "\n",
    "with open('myfile.txt', 'r') as file:\n",
    "    \n",
    "    text1 = file.read()\n",
    "    \n",
    "    \n",
    "newtext = re.sub(r'\\([^()]*\\)', '', text1)\n",
    "\n",
    "\n",
    "with open('myfile.txt', 'w') as file:\n",
    "    \n",
    "    file.write(newtext)\n",
    "\n",
    "file.close()\n",
    "    \n",
    "with open('myfile.txt', 'r') as file:\n",
    "    \n",
    "    text2 = file.read()\n",
    "\n",
    "\n",
    "newList = open(\"myfile.txt\").read().splitlines()\n",
    "\n",
    "print('Removnig parenthesis area from the text stored in the text file --> %s\\n'%sampletext6)\n",
    "\n",
    "print(newList)"
   ]
  },
  {
   "cell_type": "code",
   "execution_count": null,
   "id": "e037ea18",
   "metadata": {},
   "outputs": [],
   "source": []
  },
  {
   "cell_type": "markdown",
   "id": "5786eaa3",
   "metadata": {},
   "source": [
    "7. Write a regular expression in Python to split a string into uppercase letters."
   ]
  },
  {
   "cell_type": "markdown",
   "id": "ea104985",
   "metadata": {},
   "source": [
    "Sample text: “ImportanceOfRegularExpressionsInPython”"
   ]
  },
  {
   "cell_type": "markdown",
   "id": "9e10801d",
   "metadata": {},
   "source": [
    "Expected Output: [‘Importance’, ‘Of’, ‘Regular’, ‘Expression’, ‘In’, ‘Python’]"
   ]
  },
  {
   "cell_type": "code",
   "execution_count": 224,
   "id": "a60f3d7a",
   "metadata": {},
   "outputs": [
    {
     "name": "stdout",
     "output_type": "stream",
     "text": [
      "Splitting uppercase letters from --> \"ImportanceOfRegularExpressionsInPython\"\n",
      "\n",
      "['Importance', 'Of', 'Regular', 'Expressions', 'In', 'Python']\n"
     ]
    }
   ],
   "source": [
    "import re  # importing Regular Expressions Library\n",
    "\n",
    "sampletext7 = \"ImportanceOfRegularExpressionsInPython\"\n",
    "\n",
    "print('Splitting uppercase letters from --> \"%s\"\\n'%sampletext7)\n",
    "\n",
    "print(re.findall('[A-Z][^A-Z]*', sampletext7))"
   ]
  },
  {
   "cell_type": "code",
   "execution_count": null,
   "id": "f934fd1e",
   "metadata": {},
   "outputs": [],
   "source": []
  },
  {
   "cell_type": "markdown",
   "id": "0f6e31f2",
   "metadata": {},
   "source": [
    "8. Create a function in python to insert spaces between words starting with numbers."
   ]
  },
  {
   "cell_type": "markdown",
   "id": "b3343bfe",
   "metadata": {},
   "source": [
    "Sample Text: “RegularExpression1IsAn2ImportantTopic3InPython\""
   ]
  },
  {
   "cell_type": "markdown",
   "id": "81c4a2be",
   "metadata": {},
   "source": [
    "Expected Output: RegularExpression 1IsAn 2ImportantTopic 3InPython"
   ]
  },
  {
   "cell_type": "code",
   "execution_count": 225,
   "id": "9daa95eb",
   "metadata": {},
   "outputs": [
    {
     "name": "stdout",
     "output_type": "stream",
     "text": [
      "Inserting spaces between words starting with numbers in --> RegularExpression1IsAn2ImportantTopic3InPython\n",
      "\n",
      "RegularExpression 1IsAn 2ImportantTopic 3InPython\n"
     ]
    }
   ],
   "source": [
    "import re\n",
    "\n",
    "sampletext8 = \"RegularExpression1IsAn2ImportantTopic3InPython\"\n",
    "\n",
    "def number_spaces(str8):\n",
    "    \n",
    "    return re.sub(r'([A-Za-z]+)(\\d+)', r'\\1 \\2', str8)\n",
    "\n",
    "\n",
    "print('Inserting spaces between words starting with numbers in --> %s\\n'%sampletext8)\n",
    "\n",
    "print(number_spaces(sampletext8))"
   ]
  },
  {
   "cell_type": "code",
   "execution_count": null,
   "id": "476e35d5",
   "metadata": {},
   "outputs": [],
   "source": []
  },
  {
   "cell_type": "markdown",
   "id": "ddc26100",
   "metadata": {},
   "source": [
    "9. Create a function in python to insert spaces between words starting with capital letters or with numbers."
   ]
  },
  {
   "cell_type": "markdown",
   "id": "9f153562",
   "metadata": {},
   "source": [
    "Sample Text: “RegularExpression1IsAn2ImportantTopic3InPython\""
   ]
  },
  {
   "cell_type": "markdown",
   "id": "5d288021",
   "metadata": {},
   "source": [
    "Expected Output:  RegularExpression 1 IsAn 2 ImportantTopic 3 InPython"
   ]
  },
  {
   "cell_type": "code",
   "execution_count": 226,
   "id": "7f0aa84c",
   "metadata": {},
   "outputs": [
    {
     "name": "stdout",
     "output_type": "stream",
     "text": [
      "Inserting spaces between words starting with capital letters or numbers in --> RegularExpression1IsAn2ImportantTopic3InPython\n",
      "\n",
      "RegularExpression 1 IsAn 2 ImportantTopic 3 InPython\n"
     ]
    }
   ],
   "source": [
    "import re\n",
    "\n",
    "def numbers_spaces(str1):\n",
    "    \n",
    "    return re.sub(r'(\\d+)', r' \\1 ', str1)\n",
    "\n",
    "\n",
    "sampletext9 = \"RegularExpression1IsAn2ImportantTopic3InPython\"\n",
    "\n",
    "print('Inserting spaces between words starting with capital letters or numbers in --> %s\\n'%sampletext9)\n",
    "\n",
    "print(numbers_spaces(sampletext9))"
   ]
  },
  {
   "cell_type": "code",
   "execution_count": null,
   "id": "9ce4f87e",
   "metadata": {},
   "outputs": [],
   "source": []
  },
  {
   "cell_type": "markdown",
   "id": "a3c74094",
   "metadata": {},
   "source": [
    "10. Use the github link below to read the data and create a dataframe. After creating the dataframe extract the first 6 letters of each country and store in the dataframe under a new column called first_five_letters."
   ]
  },
  {
   "cell_type": "markdown",
   "id": "26ec1aa3",
   "metadata": {},
   "source": [
    "Github Link-  https://raw.githubusercontent.com/dsrscientist/DSData/master/happiness_score_dataset.csv"
   ]
  },
  {
   "cell_type": "code",
   "execution_count": 178,
   "id": "1fc87025",
   "metadata": {},
   "outputs": [
    {
     "data": {
      "text/html": [
       "<div>\n",
       "<style scoped>\n",
       "    .dataframe tbody tr th:only-of-type {\n",
       "        vertical-align: middle;\n",
       "    }\n",
       "\n",
       "    .dataframe tbody tr th {\n",
       "        vertical-align: top;\n",
       "    }\n",
       "\n",
       "    .dataframe thead th {\n",
       "        text-align: right;\n",
       "    }\n",
       "</style>\n",
       "<table border=\"1\" class=\"dataframe\">\n",
       "  <thead>\n",
       "    <tr style=\"text-align: right;\">\n",
       "      <th></th>\n",
       "      <th>Country</th>\n",
       "      <th>Region</th>\n",
       "      <th>Happiness Rank</th>\n",
       "      <th>Happiness Score</th>\n",
       "      <th>Standard Error</th>\n",
       "      <th>Economy (GDP per Capita)</th>\n",
       "      <th>Family</th>\n",
       "      <th>Health (Life Expectancy)</th>\n",
       "      <th>Freedom</th>\n",
       "      <th>Trust (Government Corruption)</th>\n",
       "      <th>Generosity</th>\n",
       "      <th>Dystopia Residual</th>\n",
       "      <th>first_five_letters</th>\n",
       "    </tr>\n",
       "  </thead>\n",
       "  <tbody>\n",
       "    <tr>\n",
       "      <th>0</th>\n",
       "      <td>Switzerland</td>\n",
       "      <td>Western Europe</td>\n",
       "      <td>1</td>\n",
       "      <td>7.587</td>\n",
       "      <td>0.03411</td>\n",
       "      <td>1.39651</td>\n",
       "      <td>1.34951</td>\n",
       "      <td>0.94143</td>\n",
       "      <td>0.66557</td>\n",
       "      <td>0.41978</td>\n",
       "      <td>0.29678</td>\n",
       "      <td>2.51738</td>\n",
       "      <td>Switz</td>\n",
       "    </tr>\n",
       "    <tr>\n",
       "      <th>1</th>\n",
       "      <td>Iceland</td>\n",
       "      <td>Western Europe</td>\n",
       "      <td>2</td>\n",
       "      <td>7.561</td>\n",
       "      <td>0.04884</td>\n",
       "      <td>1.30232</td>\n",
       "      <td>1.40223</td>\n",
       "      <td>0.94784</td>\n",
       "      <td>0.62877</td>\n",
       "      <td>0.14145</td>\n",
       "      <td>0.43630</td>\n",
       "      <td>2.70201</td>\n",
       "      <td>Icela</td>\n",
       "    </tr>\n",
       "    <tr>\n",
       "      <th>2</th>\n",
       "      <td>Denmark</td>\n",
       "      <td>Western Europe</td>\n",
       "      <td>3</td>\n",
       "      <td>7.527</td>\n",
       "      <td>0.03328</td>\n",
       "      <td>1.32548</td>\n",
       "      <td>1.36058</td>\n",
       "      <td>0.87464</td>\n",
       "      <td>0.64938</td>\n",
       "      <td>0.48357</td>\n",
       "      <td>0.34139</td>\n",
       "      <td>2.49204</td>\n",
       "      <td>Denma</td>\n",
       "    </tr>\n",
       "    <tr>\n",
       "      <th>3</th>\n",
       "      <td>Norway</td>\n",
       "      <td>Western Europe</td>\n",
       "      <td>4</td>\n",
       "      <td>7.522</td>\n",
       "      <td>0.03880</td>\n",
       "      <td>1.45900</td>\n",
       "      <td>1.33095</td>\n",
       "      <td>0.88521</td>\n",
       "      <td>0.66973</td>\n",
       "      <td>0.36503</td>\n",
       "      <td>0.34699</td>\n",
       "      <td>2.46531</td>\n",
       "      <td>Norwa</td>\n",
       "    </tr>\n",
       "    <tr>\n",
       "      <th>4</th>\n",
       "      <td>Canada</td>\n",
       "      <td>North America</td>\n",
       "      <td>5</td>\n",
       "      <td>7.427</td>\n",
       "      <td>0.03553</td>\n",
       "      <td>1.32629</td>\n",
       "      <td>1.32261</td>\n",
       "      <td>0.90563</td>\n",
       "      <td>0.63297</td>\n",
       "      <td>0.32957</td>\n",
       "      <td>0.45811</td>\n",
       "      <td>2.45176</td>\n",
       "      <td>Canad</td>\n",
       "    </tr>\n",
       "    <tr>\n",
       "      <th>...</th>\n",
       "      <td>...</td>\n",
       "      <td>...</td>\n",
       "      <td>...</td>\n",
       "      <td>...</td>\n",
       "      <td>...</td>\n",
       "      <td>...</td>\n",
       "      <td>...</td>\n",
       "      <td>...</td>\n",
       "      <td>...</td>\n",
       "      <td>...</td>\n",
       "      <td>...</td>\n",
       "      <td>...</td>\n",
       "      <td>...</td>\n",
       "    </tr>\n",
       "    <tr>\n",
       "      <th>153</th>\n",
       "      <td>Rwanda</td>\n",
       "      <td>Sub-Saharan Africa</td>\n",
       "      <td>154</td>\n",
       "      <td>3.465</td>\n",
       "      <td>0.03464</td>\n",
       "      <td>0.22208</td>\n",
       "      <td>0.77370</td>\n",
       "      <td>0.42864</td>\n",
       "      <td>0.59201</td>\n",
       "      <td>0.55191</td>\n",
       "      <td>0.22628</td>\n",
       "      <td>0.67042</td>\n",
       "      <td>Rwand</td>\n",
       "    </tr>\n",
       "    <tr>\n",
       "      <th>154</th>\n",
       "      <td>Benin</td>\n",
       "      <td>Sub-Saharan Africa</td>\n",
       "      <td>155</td>\n",
       "      <td>3.340</td>\n",
       "      <td>0.03656</td>\n",
       "      <td>0.28665</td>\n",
       "      <td>0.35386</td>\n",
       "      <td>0.31910</td>\n",
       "      <td>0.48450</td>\n",
       "      <td>0.08010</td>\n",
       "      <td>0.18260</td>\n",
       "      <td>1.63328</td>\n",
       "      <td>Benin</td>\n",
       "    </tr>\n",
       "    <tr>\n",
       "      <th>155</th>\n",
       "      <td>Syria</td>\n",
       "      <td>Middle East and Northern Africa</td>\n",
       "      <td>156</td>\n",
       "      <td>3.006</td>\n",
       "      <td>0.05015</td>\n",
       "      <td>0.66320</td>\n",
       "      <td>0.47489</td>\n",
       "      <td>0.72193</td>\n",
       "      <td>0.15684</td>\n",
       "      <td>0.18906</td>\n",
       "      <td>0.47179</td>\n",
       "      <td>0.32858</td>\n",
       "      <td>Syria</td>\n",
       "    </tr>\n",
       "    <tr>\n",
       "      <th>156</th>\n",
       "      <td>Burundi</td>\n",
       "      <td>Sub-Saharan Africa</td>\n",
       "      <td>157</td>\n",
       "      <td>2.905</td>\n",
       "      <td>0.08658</td>\n",
       "      <td>0.01530</td>\n",
       "      <td>0.41587</td>\n",
       "      <td>0.22396</td>\n",
       "      <td>0.11850</td>\n",
       "      <td>0.10062</td>\n",
       "      <td>0.19727</td>\n",
       "      <td>1.83302</td>\n",
       "      <td>Burun</td>\n",
       "    </tr>\n",
       "    <tr>\n",
       "      <th>157</th>\n",
       "      <td>Togo</td>\n",
       "      <td>Sub-Saharan Africa</td>\n",
       "      <td>158</td>\n",
       "      <td>2.839</td>\n",
       "      <td>0.06727</td>\n",
       "      <td>0.20868</td>\n",
       "      <td>0.13995</td>\n",
       "      <td>0.28443</td>\n",
       "      <td>0.36453</td>\n",
       "      <td>0.10731</td>\n",
       "      <td>0.16681</td>\n",
       "      <td>1.56726</td>\n",
       "      <td>Togo</td>\n",
       "    </tr>\n",
       "  </tbody>\n",
       "</table>\n",
       "<p>158 rows × 13 columns</p>\n",
       "</div>"
      ],
      "text/plain": [
       "         Country                           Region  Happiness Rank  \\\n",
       "0    Switzerland                   Western Europe               1   \n",
       "1        Iceland                   Western Europe               2   \n",
       "2        Denmark                   Western Europe               3   \n",
       "3         Norway                   Western Europe               4   \n",
       "4         Canada                    North America               5   \n",
       "..           ...                              ...             ...   \n",
       "153       Rwanda               Sub-Saharan Africa             154   \n",
       "154        Benin               Sub-Saharan Africa             155   \n",
       "155        Syria  Middle East and Northern Africa             156   \n",
       "156      Burundi               Sub-Saharan Africa             157   \n",
       "157         Togo               Sub-Saharan Africa             158   \n",
       "\n",
       "     Happiness Score  Standard Error  Economy (GDP per Capita)   Family  \\\n",
       "0              7.587         0.03411                   1.39651  1.34951   \n",
       "1              7.561         0.04884                   1.30232  1.40223   \n",
       "2              7.527         0.03328                   1.32548  1.36058   \n",
       "3              7.522         0.03880                   1.45900  1.33095   \n",
       "4              7.427         0.03553                   1.32629  1.32261   \n",
       "..               ...             ...                       ...      ...   \n",
       "153            3.465         0.03464                   0.22208  0.77370   \n",
       "154            3.340         0.03656                   0.28665  0.35386   \n",
       "155            3.006         0.05015                   0.66320  0.47489   \n",
       "156            2.905         0.08658                   0.01530  0.41587   \n",
       "157            2.839         0.06727                   0.20868  0.13995   \n",
       "\n",
       "     Health (Life Expectancy)  Freedom  Trust (Government Corruption)  \\\n",
       "0                     0.94143  0.66557                        0.41978   \n",
       "1                     0.94784  0.62877                        0.14145   \n",
       "2                     0.87464  0.64938                        0.48357   \n",
       "3                     0.88521  0.66973                        0.36503   \n",
       "4                     0.90563  0.63297                        0.32957   \n",
       "..                        ...      ...                            ...   \n",
       "153                   0.42864  0.59201                        0.55191   \n",
       "154                   0.31910  0.48450                        0.08010   \n",
       "155                   0.72193  0.15684                        0.18906   \n",
       "156                   0.22396  0.11850                        0.10062   \n",
       "157                   0.28443  0.36453                        0.10731   \n",
       "\n",
       "     Generosity  Dystopia Residual first_five_letters  \n",
       "0       0.29678            2.51738              Switz  \n",
       "1       0.43630            2.70201              Icela  \n",
       "2       0.34139            2.49204              Denma  \n",
       "3       0.34699            2.46531              Norwa  \n",
       "4       0.45811            2.45176              Canad  \n",
       "..          ...                ...                ...  \n",
       "153     0.22628            0.67042              Rwand  \n",
       "154     0.18260            1.63328              Benin  \n",
       "155     0.47179            0.32858              Syria  \n",
       "156     0.19727            1.83302              Burun  \n",
       "157     0.16681            1.56726               Togo  \n",
       "\n",
       "[158 rows x 13 columns]"
      ]
     },
     "execution_count": 178,
     "metadata": {},
     "output_type": "execute_result"
    }
   ],
   "source": [
    "import pandas as pd\n",
    "\n",
    "githuburl = \"https://raw.githubusercontent.com/dsrscientist/DSData/master/happiness_score_dataset.csv\"\n",
    "    \n",
    "df2 = pd.read_csv(githuburl)\n",
    "\n",
    "df2['first_five_letters'] = df2['Country'].apply(lambda x: x[:5])\n",
    "\n",
    "df2"
   ]
  },
  {
   "cell_type": "code",
   "execution_count": null,
   "id": "88bb3f7a",
   "metadata": {},
   "outputs": [],
   "source": []
  },
  {
   "cell_type": "markdown",
   "id": "d875adfa",
   "metadata": {},
   "source": [
    "11. Write a Python program to match a string that contains only upper and lowercase letters, numbers, and underscores."
   ]
  },
  {
   "cell_type": "code",
   "execution_count": 232,
   "id": "b43722c4",
   "metadata": {},
   "outputs": [
    {
     "name": "stdout",
     "output_type": "stream",
     "text": [
      "To match a string that contains only upper and lowercase letters, numbers, and underscores\n",
      "\n",
      "Enter any text that contains only upper and lowercase letters, numbers, and underscores:Hi_how_many_4_good\n",
      "\n",
      "\"Hi_how_many_4_good\" matches the required format!\n"
     ]
    }
   ],
   "source": [
    "import re\n",
    "\n",
    "def match_string(string11):\n",
    "    \n",
    "        pattern_match = '^[a-zA-Z0-9_]*$'\n",
    "        \n",
    "        if re.search(pattern_match,  string11):\n",
    "            \n",
    "               return('\\n\"%s\" matches the required format!'%string11)\n",
    "            \n",
    "        else:\n",
    "            \n",
    "               return('\\n\"%s\" does not match the required format!'%string11)\n",
    "            \n",
    "\n",
    "print('To match a string that contains only upper and lowercase letters, numbers, and underscores\\n')\n",
    "\n",
    "sampletext11 = input('Enter any text that contains only upper and lowercase letters, numbers, and underscores:')\n",
    "\n",
    "print(match_string(sampletext11))"
   ]
  },
  {
   "cell_type": "code",
   "execution_count": null,
   "id": "d4f059a4",
   "metadata": {},
   "outputs": [],
   "source": []
  },
  {
   "cell_type": "markdown",
   "id": "b9abffaa",
   "metadata": {},
   "source": [
    "12. Write a Python program where a string will start with a specific number."
   ]
  },
  {
   "cell_type": "code",
   "execution_count": 235,
   "id": "b1b87bf6",
   "metadata": {},
   "outputs": [
    {
     "name": "stdout",
     "output_type": "stream",
     "text": [
      "To check if string starts with number 7 \n",
      "\n",
      "Enter any string containing text or a number: 7nshg\n",
      "\n",
      "\"7nshg\" starts with 7\n"
     ]
    }
   ],
   "source": [
    "import re\n",
    "\n",
    "print('To check if string starts with number 7','\\n')\n",
    "\n",
    "def str_start(string7):\n",
    "    \n",
    "    check_str = re.compile(r\"^7\")\n",
    "    \n",
    "    if check_str.match(string7):\n",
    "        \n",
    "        return ('\\n\"%s\" starts with 7'%string7)\n",
    "    \n",
    "    else:\n",
    "        \n",
    "        return ('\\n\"%s\" does not start with 7'%string7)\n",
    "    \n",
    "sampletext7 = input('Enter any string containing text or a number: ')\n",
    "\n",
    "print(str_start(sampletext7))"
   ]
  },
  {
   "cell_type": "code",
   "execution_count": null,
   "id": "923259d3",
   "metadata": {},
   "outputs": [],
   "source": []
  },
  {
   "cell_type": "markdown",
   "id": "f6d0e96e",
   "metadata": {},
   "source": [
    "13. Write a Python program to remove leading zeros from an IP address"
   ]
  },
  {
   "cell_type": "code",
   "execution_count": 167,
   "id": "5f3b2a1e",
   "metadata": {},
   "outputs": [
    {
     "name": "stdout",
     "output_type": "stream",
     "text": [
      "Enter any ip number to remove leading zeroes from : 208.030.002.004\n",
      "\n",
      "New ip address is  208.30.2.4\n"
     ]
    }
   ],
   "source": [
    "import re\n",
    "\n",
    "ip = input('Enter any ip number to remove leading zeroes from : ')\n",
    "\n",
    "string = re.sub('\\.[0]*', '.', ip)\n",
    "\n",
    "print('\\nNew ip address is ',string)"
   ]
  },
  {
   "cell_type": "code",
   "execution_count": null,
   "id": "3c706001",
   "metadata": {},
   "outputs": [],
   "source": []
  },
  {
   "cell_type": "markdown",
   "id": "d24a8271",
   "metadata": {},
   "source": [
    "14. Write a regular expression in python to match a date string in the form of Month name followed by day number and year stored in a text file."
   ]
  },
  {
   "cell_type": "markdown",
   "id": "a806396b",
   "metadata": {},
   "source": [
    "Sample text :  ' On August 15th 1947 that India was declared independent from British colonialism, and the reins of control were handed over to the leaders of the Country’."
   ]
  },
  {
   "cell_type": "markdown",
   "id": "fbfef52c",
   "metadata": {},
   "source": [
    "Expected Output- August 15th 1947"
   ]
  },
  {
   "cell_type": "markdown",
   "id": "c1788c3e",
   "metadata": {},
   "source": [
    "Note- Store given sample text in the text file and then extract the date string asked format."
   ]
  },
  {
   "cell_type": "code",
   "execution_count": 111,
   "id": "a6caad2b",
   "metadata": {},
   "outputs": [
    {
     "name": "stdout",
     "output_type": "stream",
     "text": [
      "Search for date in \"On August 15th 1947 that India was declared independent from British colonialism, and the reins of control were handed over to the leaders of the Country\" \n",
      "\n",
      "August 15th 1947\n"
     ]
    }
   ],
   "source": [
    "import re\n",
    "\n",
    "#sampletext14 = input('Enter any sentence that includes Month name, day and year : ')\n",
    "\n",
    "sampletext14 = 'On August 15th 1947 that India was declared independent from British colonialism, and the reins of control were handed over to the leaders of the Country'\n",
    "\n",
    "with open('mytextfile.txt', 'w+') as file:\n",
    "    \n",
    "    data_to_store = sampletext14\n",
    "    \n",
    "    file.write(data_to_store)\n",
    "    \n",
    "file.close()\n",
    "\n",
    "\n",
    "with open('mytextfile.txt', 'r') as file:\n",
    "    \n",
    "    text14 = file.read()\n",
    "    \n",
    "print('Search for date in \"%s\"'%(text14), '\\n')\n",
    "\n",
    "date_pattern = r\"\\b([A-Z][a-z]+ \\d{1,2}(?:st|nd|rd|th)? \\d{4})\\b\"\n",
    "\n",
    "date_match = re.findall(date_pattern, text14)\n",
    "\n",
    "date_string = date_match[0]\n",
    "\n",
    "print(date_string)\n",
    "#if date_match:\n",
    "    \n",
    "#    date_string = date_match[0]\n",
    "    \n",
    "#    print('\\n', 'The date in the text entered is:', date_string)\n",
    "    \n",
    "#else:\n",
    "#    print('\\n','The text does not contain any date!')"
   ]
  },
  {
   "cell_type": "code",
   "execution_count": null,
   "id": "c0d1a5b0",
   "metadata": {},
   "outputs": [],
   "source": []
  },
  {
   "cell_type": "markdown",
   "id": "cdb69fbf",
   "metadata": {},
   "source": [
    "15. Write a Python program to search some literals strings in a string."
   ]
  },
  {
   "cell_type": "markdown",
   "id": "1c0a5a87",
   "metadata": {},
   "source": [
    "Sample text : 'The quick brown fox jumps over the lazy dog.'"
   ]
  },
  {
   "cell_type": "markdown",
   "id": "501f63b3",
   "metadata": {},
   "source": [
    "Searched words : 'fox', 'dog', 'horse'"
   ]
  },
  {
   "cell_type": "code",
   "execution_count": 89,
   "id": "52be62e6",
   "metadata": {},
   "outputs": [
    {
     "name": "stdout",
     "output_type": "stream",
     "text": [
      "Search for ['fox', 'dog', 'horse'] in The quick brown fox jumps over the lazy dog. \n",
      "\n",
      "Searching for \"fox\" in \"The quick brown fox jumps over the lazy dog.\" --> fox found! \n",
      "\n",
      "Searching for \"dog\" in \"The quick brown fox jumps over the lazy dog.\" --> dog found! \n",
      "\n",
      "Searching for \"horse\" in \"The quick brown fox jumps over the lazy dog.\" --> horse not found!\n"
     ]
    }
   ],
   "source": [
    "import re\n",
    "\n",
    "search_words15 = [ 'fox', 'dog', 'horse' ]\n",
    "\n",
    "sampletext15 = 'The quick brown fox jumps over the lazy dog.'\n",
    "\n",
    "print('Search for',search_words15,'in',sampletext15,'\\n')\n",
    "\n",
    "for pattern in search_words15:\n",
    "    \n",
    "    if re.search(pattern, sampletext15):\n",
    "        \n",
    "        print('Searching for \"%s\" in \"%s\" -->' % (pattern, sampletext15), '%s found!' % (pattern),'\\n')\n",
    "        \n",
    "    else:\n",
    "        \n",
    "        print('Searching for \"%s\" in \"%s\" -->' % (pattern, sampletext15),'%s not found!' % (pattern))"
   ]
  },
  {
   "cell_type": "code",
   "execution_count": null,
   "id": "9094d11a",
   "metadata": {},
   "outputs": [],
   "source": []
  },
  {
   "cell_type": "markdown",
   "id": "f11e98a6",
   "metadata": {},
   "source": [
    "16. Write a Python program to search a literals string in a string and also find the location within the original string where the pattern occurs"
   ]
  },
  {
   "cell_type": "markdown",
   "id": "6b42acc7",
   "metadata": {},
   "source": [
    "Sample text : 'The quick brown fox jumps over the lazy dog.'"
   ]
  },
  {
   "cell_type": "markdown",
   "id": "66a89e92",
   "metadata": {},
   "source": [
    "Searched words : 'fox'"
   ]
  },
  {
   "cell_type": "code",
   "execution_count": 108,
   "id": "e700b15c",
   "metadata": {},
   "outputs": [
    {
     "name": "stdout",
     "output_type": "stream",
     "text": [
      "Find \"fox\" and location of it in \"The quick brown fox jumps over the lazy dog.\" \n",
      "\n",
      "Found \"fox\" in \"The quick brown fox jumps over the lazy dog.\" \"fox\" location is from 16 to 19 \n"
     ]
    }
   ],
   "source": [
    "import re\n",
    "\n",
    "search_words16 = 'fox'\n",
    "\n",
    "sampletext16 = 'The quick brown fox jumps over the lazy dog.'\n",
    "\n",
    "print('Find \"%s\" and location of it in \"%s\"'%(search_words16, sampletext16),'\\n')\n",
    "\n",
    "word_match = re.search(search_words16, sampletext16)\n",
    "\n",
    "word_start = word_match.start()\n",
    "\n",
    "word_end = word_match.end()\n",
    "\n",
    "print('Found \"%s\" in \"%s\" \"%s\" location is from %d to %d ' % (word_match.re.pattern, word_match.string, word_match.re.pattern, word_start, word_end))"
   ]
  },
  {
   "cell_type": "code",
   "execution_count": null,
   "id": "2895d356",
   "metadata": {},
   "outputs": [],
   "source": []
  },
  {
   "cell_type": "markdown",
   "id": "96948adb",
   "metadata": {},
   "source": [
    "17. Write a Python program to find the substrings within a string."
   ]
  },
  {
   "cell_type": "markdown",
   "id": "6262f9d1",
   "metadata": {},
   "source": [
    "Sample text : 'Python exercises, PHP exercises, C# exercises'"
   ]
  },
  {
   "cell_type": "markdown",
   "id": "c02a3384",
   "metadata": {},
   "source": [
    "Pattern : 'exercises'."
   ]
  },
  {
   "cell_type": "code",
   "execution_count": 138,
   "id": "dc808faa",
   "metadata": {},
   "outputs": [
    {
     "name": "stdout",
     "output_type": "stream",
     "text": [
      "Find \"exercises\" in \"Python exercises, PHP exercises, C# exercises\" \n",
      "\n",
      "Found \"exercises\"\n",
      "Found \"exercises\"\n",
      "Found \"exercises\"\n"
     ]
    }
   ],
   "source": [
    "import re\n",
    "\n",
    "sampletext17 = 'Python exercises, PHP exercises, C# exercises'\n",
    "\n",
    "pattern17 = 'exercises'\n",
    "\n",
    "print('Find \"%s\" in \"%s\"'%(pattern17, sampletext17),'\\n')\n",
    "\n",
    "for wordmatch in re.findall(pattern17, sampletext17):\n",
    "    \n",
    "    print('Found \"%s\"' % wordmatch)"
   ]
  },
  {
   "cell_type": "code",
   "execution_count": null,
   "id": "7a06a482",
   "metadata": {},
   "outputs": [],
   "source": []
  },
  {
   "cell_type": "markdown",
   "id": "4c7ea377",
   "metadata": {},
   "source": [
    "18. Write a Python program to find the occurrence and position of the substrings within a string."
   ]
  },
  {
   "cell_type": "code",
   "execution_count": 143,
   "id": "245baf5b",
   "metadata": {},
   "outputs": [
    {
     "name": "stdout",
     "output_type": "stream",
     "text": [
      "Find the occurrence and position \"exercises\" in \"Python exercises, PHP exercises, C# exercises\" \n",
      "\n",
      "Found \"exercises\" at 7 to 16\n",
      "Found \"exercises\" at 22 to 31\n",
      "Found \"exercises\" at 36 to 45\n"
     ]
    }
   ],
   "source": [
    "import re\n",
    "\n",
    "sampletext18 = 'Python exercises, PHP exercises, C# exercises'\n",
    "\n",
    "pattern18 = 'exercises'\n",
    "\n",
    "print('Find the occurrence and position \"%s\" in \"%s\"'%(pattern18, sampletext18),'\\n')\n",
    "\n",
    "for matchword in re.finditer(pattern18, sampletext18):\n",
    "    \n",
    "    startword = matchword.start()\n",
    "    \n",
    "    endword = matchword.end()\n",
    "    \n",
    "    print('Found \"%s\" at %d to %d' % (sampletext18[startword:endword], startword, endword))"
   ]
  },
  {
   "cell_type": "code",
   "execution_count": null,
   "id": "7da8aa0a",
   "metadata": {},
   "outputs": [],
   "source": []
  },
  {
   "cell_type": "markdown",
   "id": "18393e8e",
   "metadata": {},
   "source": [
    "19. Write a Python program to convert a date of yyyy-mm-dd format to dd-mm-yyyy format."
   ]
  },
  {
   "cell_type": "code",
   "execution_count": 166,
   "id": "381c2528",
   "metadata": {},
   "outputs": [
    {
     "name": "stdout",
     "output_type": "stream",
     "text": [
      "Enter a date in YYYY-MM-DD format : 2024-02-25\n",
      "\n",
      "Converted date in DD-MM-YYYY format:  25-02-2024\n"
     ]
    }
   ],
   "source": [
    "import re\n",
    "\n",
    "def convert_date_format(date):\n",
    "    \n",
    "        return re.sub(r'(\\d{4})-(\\d{1,2})-(\\d{1,2})', '\\\\3-\\\\2-\\\\1', date)\n",
    "    \n",
    "date1 = input('Enter a date in YYYY-MM-DD format : ')\n",
    "\n",
    "print('\\nConverted date in DD-MM-YYYY format: ',convert_date_format(date1))"
   ]
  },
  {
   "cell_type": "code",
   "execution_count": null,
   "id": "7354b563",
   "metadata": {},
   "outputs": [],
   "source": []
  },
  {
   "cell_type": "markdown",
   "id": "fb14f4b6",
   "metadata": {},
   "source": [
    "20. Create a function in python to find all decimal numbers with a precision of 1 or 2 in a string. The use of the re.compile() method is mandatory."
   ]
  },
  {
   "cell_type": "markdown",
   "id": "d34b6930",
   "metadata": {},
   "source": [
    "Sample Text: \"01.12 0132.123 2.31875 145.8 3.01 27.25 0.25\""
   ]
  },
  {
   "cell_type": "markdown",
   "id": "fe4ce7e5",
   "metadata": {},
   "source": [
    "Expected Output: ['01.12', '145.8', '3.01', '27.25', '0.25']"
   ]
  },
  {
   "cell_type": "code",
   "execution_count": 163,
   "id": "86b2de4d",
   "metadata": {},
   "outputs": [
    {
     "name": "stdout",
     "output_type": "stream",
     "text": [
      "Find all decimal numbers with a precision of 1 or 2 in \"01.12 0132.123 2.31875 145.8 3.01 27.25 0.25\" \n",
      "\n",
      "['01.12', '0132.12', '2.31', '145.8', '3.01', '27.25', '0.25']\n"
     ]
    }
   ],
   "source": [
    "import re\n",
    "\n",
    "sampletext20 = \"01.12 0132.123 2.31875 145.8 3.01 27.25 0.25\"\n",
    "\n",
    "def decimal_numbers_1_2(string):\n",
    "    \n",
    "    decimal_pattern = re.compile(r'\\d+\\.\\d{1,2}')\n",
    "    \n",
    "    two_decimal_roundoff = re.findall(decimal_pattern, string)\n",
    "    \n",
    "    return two_decimal_roundoff\n",
    "\n",
    "result20 = decimal_numbers_1_2(sampletext20)\n",
    "\n",
    "print('Find all decimal numbers with a precision of 1 or 2 in \"%s\"'%sampletext20,'\\n')\n",
    "\n",
    "print(result20)"
   ]
  },
  {
   "cell_type": "code",
   "execution_count": null,
   "id": "b72ffb93",
   "metadata": {},
   "outputs": [],
   "source": []
  },
  {
   "cell_type": "markdown",
   "id": "4aa22ca0",
   "metadata": {},
   "source": [
    "21. Write a Python program to separate and print the numbers and their position of a given string."
   ]
  },
  {
   "cell_type": "code",
   "execution_count": 171,
   "id": "9591b22c",
   "metadata": {},
   "outputs": [
    {
     "name": "stdout",
     "output_type": "stream",
     "text": [
      "Enter any string containing numbers in itdecimal numbers with a precision of 1 or 2 in a string\n",
      "\n",
      "Finding numbers and their position in the given string.\n",
      "\n",
      "In the given string 1 is at Index position:  36 \n",
      "\n",
      "In the given string 2 is at Index position:  41 \n",
      "\n"
     ]
    }
   ],
   "source": [
    "import re\n",
    "\n",
    "sampletext21 = input(\"Enter any string containing numbers in it\")\n",
    "\n",
    "print('\\nFinding numbers and their position in the given string.\\n')\n",
    "\n",
    "for num in re.finditer(\"\\d+\", sampletext21):\n",
    "    \n",
    "    print('In the given string',num.group(0),'is at Index position: ', num.start(),'\\n')\n"
   ]
  },
  {
   "cell_type": "code",
   "execution_count": null,
   "id": "e4c77ffb",
   "metadata": {},
   "outputs": [],
   "source": []
  },
  {
   "cell_type": "markdown",
   "id": "2ec0b2fb",
   "metadata": {},
   "source": [
    "22. Write a regular expression in python program to extract maximum/largest numeric value from a string."
   ]
  },
  {
   "cell_type": "markdown",
   "id": "876501bf",
   "metadata": {},
   "source": [
    "Sample Text:  'My marks in each semester are: 947, 896, 926, 524, 734, 950, 642'"
   ]
  },
  {
   "cell_type": "markdown",
   "id": "d12025b6",
   "metadata": {},
   "source": [
    "Expected Output: 950"
   ]
  },
  {
   "cell_type": "code",
   "execution_count": 200,
   "id": "ddcb23dc",
   "metadata": {},
   "outputs": [
    {
     "name": "stdout",
     "output_type": "stream",
     "text": [
      "To extract maximum/largest numeric value from string --> My marks in each semester are: 947, 896, 926, 524, 734, 950, 642 \n",
      "\n",
      "950\n"
     ]
    }
   ],
   "source": [
    "import re\n",
    "\n",
    "sampletext22 = 'My marks in each semester are: 947, 896, 926, 524, 734, 950, 642'\n",
    "\n",
    "num_in_string = re.findall(r'\\d+', sampletext22)\n",
    "\n",
    "numeric_values = [int(value) for value in num_in_string]\n",
    "\n",
    "maximumvalue = max(numeric_values)\n",
    "\n",
    "print('To extract maximum/largest numeric value from string -->',sampletext22,'\\n')\n",
    "\n",
    "print(maximumvalue)"
   ]
  },
  {
   "cell_type": "code",
   "execution_count": null,
   "id": "3e82c093",
   "metadata": {},
   "outputs": [],
   "source": []
  },
  {
   "cell_type": "markdown",
   "id": "3ac2cb8d",
   "metadata": {},
   "source": [
    "23. Create a function in python to insert spaces between words starting with capital letters."
   ]
  },
  {
   "cell_type": "markdown",
   "id": "668576c0",
   "metadata": {},
   "source": [
    "Sample Text: “RegularExpressionIsAnImportantTopicInPython\""
   ]
  },
  {
   "cell_type": "markdown",
   "id": "b2d9f111",
   "metadata": {},
   "source": [
    "Expected Output: Regular Expression Is An Important Topic In Python"
   ]
  },
  {
   "cell_type": "code",
   "execution_count": 184,
   "id": "101cc941",
   "metadata": {},
   "outputs": [
    {
     "name": "stdout",
     "output_type": "stream",
     "text": [
      "Inserting spaces between words starting with capital letters in: \"RegularExpressionIsAnImportantTopicInPython\" \n",
      "\n",
      "Regular Expression Is An Important Topic In Python\n"
     ]
    }
   ],
   "source": [
    "import re\n",
    "\n",
    "sampletext23 = \"RegularExpressionIsAnImportantTopicInPython\"\n",
    "\n",
    "def capital_letter_spaces(string23):\n",
    "    \n",
    "    return re.sub(r\"(\\w)([A-Z])\", r\"\\1 \\2\", string23)\n",
    "\n",
    "print('Inserting spaces between words starting with capital letters in: \"%s\"'%sampletext23,'\\n')\n",
    "\n",
    "print(capital_letter_spaces(sampletext23))"
   ]
  },
  {
   "cell_type": "code",
   "execution_count": null,
   "id": "cea60b20",
   "metadata": {},
   "outputs": [],
   "source": []
  },
  {
   "cell_type": "markdown",
   "id": "54f993ba",
   "metadata": {},
   "source": [
    "24. Python regex to find sequences of one upper case letter followed by lower case letters"
   ]
  },
  {
   "cell_type": "code",
   "execution_count": 193,
   "id": "9e706904",
   "metadata": {},
   "outputs": [
    {
     "name": "stdout",
     "output_type": "stream",
     "text": [
      "Enter any text containing words of upper case letter followed by lower case letters: Aa\n",
      "\n",
      "\"Aa\" has words of upper case letter followed by lower case letters!\n"
     ]
    }
   ],
   "source": [
    "import re\n",
    "\n",
    "def textcase_match(text):\n",
    "    \n",
    "    patterns24 = '[A-Z]+[a-z]+$'\n",
    "    \n",
    "    if re.search(patterns24, text):\n",
    "        \n",
    "        print('\\n\"%s\" has words of upper case letter followed by lower case letters!'%text)\n",
    "        \n",
    "    else:\n",
    "        \n",
    "        print('\\n\"%s\" does not have words of upper case letter followed by lower case letters!'%text)\n",
    "\n",
    "sampletext24 = input(\"Enter any text containing words of upper case letter followed by lower case letters: \")\n",
    "\n",
    "textcase_match(sampletext24)"
   ]
  },
  {
   "cell_type": "code",
   "execution_count": null,
   "id": "2bdb6907",
   "metadata": {},
   "outputs": [],
   "source": []
  },
  {
   "cell_type": "markdown",
   "id": "18340bb2",
   "metadata": {},
   "source": [
    "25. Write a Python program to remove continuous duplicate words from Sentence using Regular Expression."
   ]
  },
  {
   "cell_type": "markdown",
   "id": "ea3a7f35",
   "metadata": {},
   "source": [
    "Sample Text: \"Hello hello world world\""
   ]
  },
  {
   "cell_type": "markdown",
   "id": "bc0ea96b",
   "metadata": {},
   "source": [
    "Expected Output: Hello hello world"
   ]
  },
  {
   "cell_type": "code",
   "execution_count": 196,
   "id": "116e6b18",
   "metadata": {},
   "outputs": [
    {
     "name": "stdout",
     "output_type": "stream",
     "text": [
      "To remove continuous duplicate words from sentence: \"Hello hello world world\"\n",
      "\n",
      "Hello hello world\n"
     ]
    }
   ],
   "source": [
    "import re\n",
    "\n",
    "sampletext25 = \"Hello hello world world\"\n",
    "\n",
    "def remove_continuous_duplicates(string25):\n",
    "    \n",
    "    patterns25 = r'\\b(\\w+)(\\s+\\1\\b)+'\n",
    "    \n",
    "    output25 = re.sub(patterns25, r'\\1', string25)\n",
    "    \n",
    "    return output25\n",
    "\n",
    "print('To remove continuous duplicate words from sentence: \"%s\"\\n'%sampletext25)\n",
    "\n",
    "print(remove_continuous_duplicates(sampletext25))"
   ]
  },
  {
   "cell_type": "code",
   "execution_count": null,
   "id": "a73053c8",
   "metadata": {},
   "outputs": [],
   "source": []
  },
  {
   "cell_type": "markdown",
   "id": "78e24d8a",
   "metadata": {},
   "source": [
    "26. Write a python program using RegEx to accept string ending with alphanumeric character."
   ]
  },
  {
   "cell_type": "code",
   "execution_count": 198,
   "id": "495db1ed",
   "metadata": {},
   "outputs": [
    {
     "name": "stdout",
     "output_type": "stream",
     "text": [
      "Enter a string with alphanumeric character: Foxman\n",
      "\n",
      "\"Foxman\" ends with an alphanumeric character\n"
     ]
    }
   ],
   "source": [
    "import re\n",
    "\n",
    "def check_string(string26):\n",
    "    \n",
    "    pattern26 = r\"\\w$\"\n",
    "    \n",
    "    if re.search(pattern26, string26):\n",
    "        \n",
    "        print('\\n\"%s\" ends with an alphanumeric character'%string26)\n",
    "    \n",
    "    else:\n",
    "        \n",
    "        print('\\n\"%s\" does not end with an alphanumeric character'%string26)\n",
    "\n",
    "\n",
    "sampletext26 = input(\"Enter a string with alphanumeric character: \")\n",
    "\n",
    "check_string(sampletext26)"
   ]
  },
  {
   "cell_type": "code",
   "execution_count": null,
   "id": "e78c7699",
   "metadata": {},
   "outputs": [],
   "source": []
  },
  {
   "cell_type": "markdown",
   "id": "5901531f",
   "metadata": {},
   "source": [
    "27. Write a python program using RegEx to extract the hashtags."
   ]
  },
  {
   "cell_type": "markdown",
   "id": "5b3d07e1",
   "metadata": {},
   "source": [
    "Sample Text:  \"\"\"RT @kapil_kausik: #Doltiwal I mean #xyzabc is \"hurt\" by #Demonetization as the same has rendered USELESS <ed><U+00A0><U+00BD><ed><U+00B1><U+0089> \"acquired funds\" No wo\"\"\""
   ]
  },
  {
   "cell_type": "markdown",
   "id": "31f974b5",
   "metadata": {},
   "source": [
    "Expected Output: ['#Doltiwal', '#xyzabc', '#Demonetization']"
   ]
  },
  {
   "cell_type": "code",
   "execution_count": 213,
   "id": "981043b8",
   "metadata": {},
   "outputs": [
    {
     "name": "stdout",
     "output_type": "stream",
     "text": [
      "Finding hashtags from --> \"RT @kapil_kausik: #Doltiwal I mean #xyzabc is \"hurt\" by #Demonetization as the same has rendered USELESS <ed><U+00A0><U+00BD><ed><U+00B1><U+0089> \"acquired funds\" No wo\"\n",
      "\n",
      "['#Doltiwal', '#xyzabc', '#Demonetization']\n"
     ]
    }
   ],
   "source": [
    "import re\n",
    "\n",
    "sampletext27 = 'RT @kapil_kausik: #Doltiwal I mean #xyzabc is \"hurt\" by #Demonetization as the same has rendered USELESS <ed><U+00A0><U+00BD><ed><U+00B1><U+0089> \"acquired funds\" No wo'\n",
    "\n",
    "def extract_hashtags(string27):\n",
    "    \n",
    "    hashtags = re.findall(r'#\\w+', string27)\n",
    "    \n",
    "    return hashtags\n",
    "\n",
    "print('Finding hashtags from --> \"%s\"\\n'%sampletext27)\n",
    "\n",
    "print(extract_hashtags(sampletext27))"
   ]
  },
  {
   "cell_type": "code",
   "execution_count": null,
   "id": "bf7ce05c",
   "metadata": {},
   "outputs": [],
   "source": []
  },
  {
   "cell_type": "markdown",
   "id": "27473b86",
   "metadata": {},
   "source": [
    "28. Write a python program using RegEx to remove <U+..> like symbols\n",
    "Check the below sample text, there are strange symbols something of the sort <U+..> all over the place. You need to come up with a general Regex expression that will cover all such symbols."
   ]
  },
  {
   "cell_type": "markdown",
   "id": "0e716f65",
   "metadata": {},
   "source": [
    "Sample Text: \"@Jags123456 Bharat band on 28??<ed><U+00A0><U+00BD><ed><U+00B8><U+0082>Those who  are protesting #demonetization  are all different party leaders\""
   ]
  },
  {
   "cell_type": "markdown",
   "id": "a9b5f5e5",
   "metadata": {},
   "source": [
    "Expected Output: @Jags123456 Bharat band on 28??<ed><ed>Those who  are protesting #demonetization  are all different party leaders"
   ]
  },
  {
   "cell_type": "code",
   "execution_count": 217,
   "id": "a3c9d8e0",
   "metadata": {},
   "outputs": [
    {
     "name": "stdout",
     "output_type": "stream",
     "text": [
      "Removing <U+..> like symbols from --> \"@Jags123456 Bharat band on 28??<ed><U+00A0><U+00BD><ed><U+00B8><U+0082>Those who are protesting #demonetization are all different party leaders\"\n",
      "\n",
      "@Jags123456 Bharat band on 28??<ed><ed>Those who are protesting #demonetization are all different party leaders\n"
     ]
    }
   ],
   "source": [
    "import re\n",
    "\n",
    "sampletext28 = \"@Jags123456 Bharat band on 28??<ed><U+00A0><U+00BD><ed><U+00B8><U+0082>Those who are protesting #demonetization are all different party leaders\"\n",
    "\n",
    "pattern28 = r\"<U\\+\\w{4}>\"\n",
    "\n",
    "print('Removing <U+..> like symbols from --> \"%s\"\\n'%sampletext28)\n",
    "\n",
    "print(re.sub(pattern28, \"\", sampletext28))"
   ]
  },
  {
   "cell_type": "code",
   "execution_count": null,
   "id": "2ca074af",
   "metadata": {},
   "outputs": [],
   "source": []
  },
  {
   "cell_type": "markdown",
   "id": "d3fb25a0",
   "metadata": {},
   "source": [
    "29. Write a python program to extract dates from the text stored in the text file."
   ]
  },
  {
   "cell_type": "markdown",
   "id": "00c53e41",
   "metadata": {},
   "source": [
    "Sample Text: Ron was born on 12-09-1992 and he was admitted to school 15-12-1999."
   ]
  },
  {
   "cell_type": "markdown",
   "id": "6af9e757",
   "metadata": {},
   "source": [
    "Note- Store this sample text in the file and then extract dates."
   ]
  },
  {
   "cell_type": "code",
   "execution_count": 239,
   "id": "5a4ba813",
   "metadata": {},
   "outputs": [
    {
     "name": "stdout",
     "output_type": "stream",
     "text": [
      "To extract dates from the \"Ron was born on 12-09-1992 and he was admitted to school 15-12-1999.\" stored in the text file\n",
      "\n",
      "Date found --> 12-09-1992\n",
      "Date found --> 15-12-1999\n"
     ]
    }
   ],
   "source": [
    "import re\n",
    "\n",
    "sampletext29 = 'Ron was born on 12-09-1992 and he was admitted to school 15-12-1999.'\n",
    "\n",
    "with open('mydatefile.txt', 'w+') as file:\n",
    "    \n",
    "    file.write(sampletext29)\n",
    "    \n",
    "file.close()\n",
    "\n",
    "with open('mydatefile.txt', 'r') as file:\n",
    "    \n",
    "    readtext = file.read()\n",
    "\n",
    "pattern29 = r'\\d{2}-\\d{2}-\\d{4}'\n",
    "\n",
    "find_dates = re.findall(pattern29, readtext)\n",
    "\n",
    "print('To extract dates from the \"%s\" stored in the text file\\n'%sampletext29)\n",
    "\n",
    "for date in find_dates:\n",
    "    print('Date found -->',date)"
   ]
  },
  {
   "cell_type": "code",
   "execution_count": null,
   "id": "4825ebbd",
   "metadata": {},
   "outputs": [],
   "source": []
  },
  {
   "cell_type": "markdown",
   "id": "682a5fc8",
   "metadata": {},
   "source": [
    "30. Create a function in python to remove all words from a string of length between 2 and 4.\n",
    "The use of the re.compile() method is mandatory."
   ]
  },
  {
   "cell_type": "markdown",
   "id": "78f6cc51",
   "metadata": {},
   "source": [
    "Sample Text: \"The following example creates an ArrayList with a capacity of 50 elements. 4 elements are then added to the ArrayList and the ArrayList is trimmed accordingly.\""
   ]
  },
  {
   "cell_type": "markdown",
   "id": "1baf9caf",
   "metadata": {},
   "source": [
    "Expected Output:  following example creates ArrayList a capacity elements. 4 elements added ArrayList ArrayList trimmed accordingly."
   ]
  },
  {
   "cell_type": "code",
   "execution_count": 241,
   "id": "ec387f01",
   "metadata": {},
   "outputs": [
    {
     "name": "stdout",
     "output_type": "stream",
     "text": [
      "Removing all words of length between 2 and 4 from --> \"The following example creates an ArrayList with a capacity of 50 elements. 4 elements are then added to the ArrayList and the ArrayList is trimmed accordingly.\"\n",
      "\n",
      " following example creates  ArrayList  a capacity   elements. 4 elements   added   ArrayList   ArrayList  trimmed accordingly.\n"
     ]
    }
   ],
   "source": [
    "import re\n",
    "\n",
    "sampletext30 = \"The following example creates an ArrayList with a capacity of 50 elements. 4 elements are then added to the ArrayList and the ArrayList is trimmed accordingly.\"\n",
    "\n",
    "def remove_2_4_words(string):\n",
    "    \n",
    "    pattern = re.compile(r'\\b\\w{2,4}\\b')\n",
    "    \n",
    "    modified_string = re.sub(pattern, '', string)\n",
    "    \n",
    "    return modified_string\n",
    "\n",
    "print('Removing all words of length between 2 and 4 from --> \"%s\"\\n'%sampletext30)\n",
    "\n",
    "print(remove_2_4_words(sampletext30))"
   ]
  }
 ],
 "metadata": {
  "kernelspec": {
   "display_name": "Python 3 (ipykernel)",
   "language": "python",
   "name": "python3"
  },
  "language_info": {
   "codemirror_mode": {
    "name": "ipython",
    "version": 3
   },
   "file_extension": ".py",
   "mimetype": "text/x-python",
   "name": "python",
   "nbconvert_exporter": "python",
   "pygments_lexer": "ipython3",
   "version": "3.11.7"
  }
 },
 "nbformat": 4,
 "nbformat_minor": 5
}
