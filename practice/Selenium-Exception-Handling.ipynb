{
 "cells": [
  {
   "cell_type": "markdown",
   "id": "f5d37608",
   "metadata": {},
   "source": [
    "1--->No Such Element Exception"
   ]
  },
  {
   "cell_type": "code",
   "execution_count": 1,
   "id": "f0e5ab57",
   "metadata": {},
   "outputs": [],
   "source": [
    "#Imports\n",
    "from selenium import webdriver\n",
    "import time\n",
    "from selenium.common.exceptions import NoSuchElementException     #Importing Exception\n",
    "import warnings\n",
    "warnings.filterwarnings('ignore')\n",
    "from selenium.webdriver.common.by import By"
   ]
  },
  {
   "cell_type": "code",
   "execution_count": 2,
   "id": "27ac8359",
   "metadata": {},
   "outputs": [
    {
     "ename": "NoSuchElementException",
     "evalue": "Message: no such element: Unable to locate element: {\"method\":\"css selector\",\"selector\":\"[id=\"hoo-haa-huu\"]\"}\n  (Session info: chrome=122.0.6261.129); For documentation on this error, please visit: https://www.selenium.dev/documentation/webdriver/troubleshooting/errors#no-such-element-exception\nStacktrace:\n\tGetHandleVerifier [0x00007FF755C7AD02+56930]\n\t(No symbol) [0x00007FF755BEF602]\n\t(No symbol) [0x00007FF755AA42E5]\n\t(No symbol) [0x00007FF755AE98ED]\n\t(No symbol) [0x00007FF755AE9A2C]\n\t(No symbol) [0x00007FF755B2A967]\n\t(No symbol) [0x00007FF755B0BCDF]\n\t(No symbol) [0x00007FF755B281E2]\n\t(No symbol) [0x00007FF755B0BA43]\n\t(No symbol) [0x00007FF755ADD438]\n\t(No symbol) [0x00007FF755ADE4D1]\n\tGetHandleVerifier [0x00007FF755FF6F8D+3711213]\n\tGetHandleVerifier [0x00007FF7560504CD+4077101]\n\tGetHandleVerifier [0x00007FF75604865F+4044735]\n\tGetHandleVerifier [0x00007FF755D19736+706710]\n\t(No symbol) [0x00007FF755BFB8DF]\n\t(No symbol) [0x00007FF755BF6AC4]\n\t(No symbol) [0x00007FF755BF6C1C]\n\t(No symbol) [0x00007FF755BE68D4]\n\tBaseThreadInitThunk [0x00007FFCB841257D+29]\n\tRtlUserThreadStart [0x00007FFCBA0EAA58+40]\n",
     "output_type": "error",
     "traceback": [
      "\u001b[1;31m---------------------------------------------------------------------------\u001b[0m",
      "\u001b[1;31mNoSuchElementException\u001b[0m                    Traceback (most recent call last)",
      "Cell \u001b[1;32mIn[2], line 5\u001b[0m\n\u001b[0;32m      3\u001b[0m time\u001b[38;5;241m.\u001b[39msleep(\u001b[38;5;241m5\u001b[39m)\n\u001b[0;32m      4\u001b[0m \u001b[38;5;66;03m#Entering & Searching for an element which is not present in the webpage\u001b[39;00m\n\u001b[1;32m----> 5\u001b[0m element \u001b[38;5;241m=\u001b[39m \u001b[43mdriver\u001b[49m\u001b[38;5;241;43m.\u001b[39;49m\u001b[43mfind_element\u001b[49m\u001b[43m(\u001b[49m\u001b[43mBy\u001b[49m\u001b[38;5;241;43m.\u001b[39;49m\u001b[43mID\u001b[49m\u001b[43m,\u001b[49m\u001b[43m \u001b[49m\u001b[38;5;124;43m\"\u001b[39;49m\u001b[38;5;124;43mhoo-haa-huu\u001b[39;49m\u001b[38;5;124;43m\"\u001b[39;49m\u001b[43m)\u001b[49m\n\u001b[0;32m      6\u001b[0m element\u001b[38;5;241m.\u001b[39mtext\n",
      "File \u001b[1;32m~\\anaconda3\\lib\\site-packages\\selenium\\webdriver\\remote\\webdriver.py:741\u001b[0m, in \u001b[0;36mWebDriver.find_element\u001b[1;34m(self, by, value)\u001b[0m\n\u001b[0;32m    738\u001b[0m     by \u001b[38;5;241m=\u001b[39m By\u001b[38;5;241m.\u001b[39mCSS_SELECTOR\n\u001b[0;32m    739\u001b[0m     value \u001b[38;5;241m=\u001b[39m \u001b[38;5;124mf\u001b[39m\u001b[38;5;124m'\u001b[39m\u001b[38;5;124m[name=\u001b[39m\u001b[38;5;124m\"\u001b[39m\u001b[38;5;132;01m{\u001b[39;00mvalue\u001b[38;5;132;01m}\u001b[39;00m\u001b[38;5;124m\"\u001b[39m\u001b[38;5;124m]\u001b[39m\u001b[38;5;124m'\u001b[39m\n\u001b[1;32m--> 741\u001b[0m \u001b[38;5;28;01mreturn\u001b[39;00m \u001b[38;5;28;43mself\u001b[39;49m\u001b[38;5;241;43m.\u001b[39;49m\u001b[43mexecute\u001b[49m\u001b[43m(\u001b[49m\u001b[43mCommand\u001b[49m\u001b[38;5;241;43m.\u001b[39;49m\u001b[43mFIND_ELEMENT\u001b[49m\u001b[43m,\u001b[49m\u001b[43m \u001b[49m\u001b[43m{\u001b[49m\u001b[38;5;124;43m\"\u001b[39;49m\u001b[38;5;124;43musing\u001b[39;49m\u001b[38;5;124;43m\"\u001b[39;49m\u001b[43m:\u001b[49m\u001b[43m \u001b[49m\u001b[43mby\u001b[49m\u001b[43m,\u001b[49m\u001b[43m \u001b[49m\u001b[38;5;124;43m\"\u001b[39;49m\u001b[38;5;124;43mvalue\u001b[39;49m\u001b[38;5;124;43m\"\u001b[39;49m\u001b[43m:\u001b[49m\u001b[43m \u001b[49m\u001b[43mvalue\u001b[49m\u001b[43m}\u001b[49m\u001b[43m)\u001b[49m[\u001b[38;5;124m\"\u001b[39m\u001b[38;5;124mvalue\u001b[39m\u001b[38;5;124m\"\u001b[39m]\n",
      "File \u001b[1;32m~\\anaconda3\\lib\\site-packages\\selenium\\webdriver\\remote\\webdriver.py:347\u001b[0m, in \u001b[0;36mWebDriver.execute\u001b[1;34m(self, driver_command, params)\u001b[0m\n\u001b[0;32m    345\u001b[0m response \u001b[38;5;241m=\u001b[39m \u001b[38;5;28mself\u001b[39m\u001b[38;5;241m.\u001b[39mcommand_executor\u001b[38;5;241m.\u001b[39mexecute(driver_command, params)\n\u001b[0;32m    346\u001b[0m \u001b[38;5;28;01mif\u001b[39;00m response:\n\u001b[1;32m--> 347\u001b[0m     \u001b[38;5;28;43mself\u001b[39;49m\u001b[38;5;241;43m.\u001b[39;49m\u001b[43merror_handler\u001b[49m\u001b[38;5;241;43m.\u001b[39;49m\u001b[43mcheck_response\u001b[49m\u001b[43m(\u001b[49m\u001b[43mresponse\u001b[49m\u001b[43m)\u001b[49m\n\u001b[0;32m    348\u001b[0m     response[\u001b[38;5;124m\"\u001b[39m\u001b[38;5;124mvalue\u001b[39m\u001b[38;5;124m\"\u001b[39m] \u001b[38;5;241m=\u001b[39m \u001b[38;5;28mself\u001b[39m\u001b[38;5;241m.\u001b[39m_unwrap_value(response\u001b[38;5;241m.\u001b[39mget(\u001b[38;5;124m\"\u001b[39m\u001b[38;5;124mvalue\u001b[39m\u001b[38;5;124m\"\u001b[39m, \u001b[38;5;28;01mNone\u001b[39;00m))\n\u001b[0;32m    349\u001b[0m     \u001b[38;5;28;01mreturn\u001b[39;00m response\n",
      "File \u001b[1;32m~\\anaconda3\\lib\\site-packages\\selenium\\webdriver\\remote\\errorhandler.py:229\u001b[0m, in \u001b[0;36mErrorHandler.check_response\u001b[1;34m(self, response)\u001b[0m\n\u001b[0;32m    227\u001b[0m         alert_text \u001b[38;5;241m=\u001b[39m value[\u001b[38;5;124m\"\u001b[39m\u001b[38;5;124malert\u001b[39m\u001b[38;5;124m\"\u001b[39m]\u001b[38;5;241m.\u001b[39mget(\u001b[38;5;124m\"\u001b[39m\u001b[38;5;124mtext\u001b[39m\u001b[38;5;124m\"\u001b[39m)\n\u001b[0;32m    228\u001b[0m     \u001b[38;5;28;01mraise\u001b[39;00m exception_class(message, screen, stacktrace, alert_text)  \u001b[38;5;66;03m# type: ignore[call-arg]  # mypy is not smart enough here\u001b[39;00m\n\u001b[1;32m--> 229\u001b[0m \u001b[38;5;28;01mraise\u001b[39;00m exception_class(message, screen, stacktrace)\n",
      "\u001b[1;31mNoSuchElementException\u001b[0m: Message: no such element: Unable to locate element: {\"method\":\"css selector\",\"selector\":\"[id=\"hoo-haa-huu\"]\"}\n  (Session info: chrome=122.0.6261.129); For documentation on this error, please visit: https://www.selenium.dev/documentation/webdriver/troubleshooting/errors#no-such-element-exception\nStacktrace:\n\tGetHandleVerifier [0x00007FF755C7AD02+56930]\n\t(No symbol) [0x00007FF755BEF602]\n\t(No symbol) [0x00007FF755AA42E5]\n\t(No symbol) [0x00007FF755AE98ED]\n\t(No symbol) [0x00007FF755AE9A2C]\n\t(No symbol) [0x00007FF755B2A967]\n\t(No symbol) [0x00007FF755B0BCDF]\n\t(No symbol) [0x00007FF755B281E2]\n\t(No symbol) [0x00007FF755B0BA43]\n\t(No symbol) [0x00007FF755ADD438]\n\t(No symbol) [0x00007FF755ADE4D1]\n\tGetHandleVerifier [0x00007FF755FF6F8D+3711213]\n\tGetHandleVerifier [0x00007FF7560504CD+4077101]\n\tGetHandleVerifier [0x00007FF75604865F+4044735]\n\tGetHandleVerifier [0x00007FF755D19736+706710]\n\t(No symbol) [0x00007FF755BFB8DF]\n\t(No symbol) [0x00007FF755BF6AC4]\n\t(No symbol) [0x00007FF755BF6C1C]\n\t(No symbol) [0x00007FF755BE68D4]\n\tBaseThreadInitThunk [0x00007FFCB841257D+29]\n\tRtlUserThreadStart [0x00007FFCBA0EAA58+40]\n"
     ]
    }
   ],
   "source": [
    "driver = webdriver.Chrome()\n",
    "driver.get('https://www.google.com/')\n",
    "time.sleep(5)\n",
    "#Entering & Searching for an element which is not present in the webpage\n",
    "element = driver.find_element(By.ID, \"hoo-haa-huu\")\n",
    "element.text"
   ]
  },
  {
   "cell_type": "code",
   "execution_count": 5,
   "id": "8900345a",
   "metadata": {},
   "outputs": [
    {
     "name": "stdout",
     "output_type": "stream",
     "text": [
      "Exception Raised: \n",
      " Message: no such element: Unable to locate element: {\"method\":\"css selector\",\"selector\":\"[id=\"hoo-haa-huu\"]\"}\n",
      "  (Session info: chrome=122.0.6261.129); For documentation on this error, please visit: https://www.selenium.dev/documentation/webdriver/troubleshooting/errors#no-such-element-exception\n",
      "Stacktrace:\n",
      "\tGetHandleVerifier [0x00007FF755C7AD02+56930]\n",
      "\t(No symbol) [0x00007FF755BEF602]\n",
      "\t(No symbol) [0x00007FF755AA42E5]\n",
      "\t(No symbol) [0x00007FF755AE98ED]\n",
      "\t(No symbol) [0x00007FF755AE9A2C]\n",
      "\t(No symbol) [0x00007FF755B2A967]\n",
      "\t(No symbol) [0x00007FF755B0BCDF]\n",
      "\t(No symbol) [0x00007FF755B281E2]\n",
      "\t(No symbol) [0x00007FF755B0BA43]\n",
      "\t(No symbol) [0x00007FF755ADD438]\n",
      "\t(No symbol) [0x00007FF755ADE4D1]\n",
      "\tGetHandleVerifier [0x00007FF755FF6F8D+3711213]\n",
      "\tGetHandleVerifier [0x00007FF7560504CD+4077101]\n",
      "\tGetHandleVerifier [0x00007FF75604865F+4044735]\n",
      "\tGetHandleVerifier [0x00007FF755D19736+706710]\n",
      "\t(No symbol) [0x00007FF755BFB8DF]\n",
      "\t(No symbol) [0x00007FF755BF6AC4]\n",
      "\t(No symbol) [0x00007FF755BF6C1C]\n",
      "\t(No symbol) [0x00007FF755BE68D4]\n",
      "\tBaseThreadInitThunk [0x00007FFCB841257D+29]\n",
      "\tRtlUserThreadStart [0x00007FFCBA0EAA58+40]\n",
      "\n",
      "Element Found: Gmail\n"
     ]
    }
   ],
   "source": [
    "#Handling Exception\n",
    "\n",
    "try:\n",
    "    element = driver.find_element(By.ID, \"hoo-haa-huu\")\n",
    "    print(element.text)\n",
    "    \n",
    "except NoSuchElementException as e:\n",
    "    print(\"Exception Raised: \\n\", e)       #printing message\n",
    "    element = driver.find_element(By.CLASS_NAME, \"gb_H\")   #REplacing previous element by a valid element\n",
    "    print(\"Element Found: %s\"%element.text)"
   ]
  },
  {
   "cell_type": "code",
   "execution_count": 6,
   "id": "7c072ea8",
   "metadata": {},
   "outputs": [],
   "source": [
    "driver.close()"
   ]
  },
  {
   "cell_type": "markdown",
   "id": "1383e49d",
   "metadata": {},
   "source": [
    "2--->Web Driver Wait Function #Wait until the element is found"
   ]
  },
  {
   "cell_type": "code",
   "execution_count": 1,
   "id": "068a8040",
   "metadata": {},
   "outputs": [],
   "source": [
    "#Importing Required Classes\n",
    "from selenium import webdriver\n",
    "from selenium.webdriver.support.ui import WebDriverWait\n",
    "from selenium.webdriver.support import expected_conditions as EC\n",
    "from selenium.webdriver.common.by import By"
   ]
  },
  {
   "cell_type": "code",
   "execution_count": 2,
   "id": "099e0b70",
   "metadata": {},
   "outputs": [
    {
     "data": {
      "text/plain": [
       "<selenium.webdriver.remote.webelement.WebElement (session=\"27107be80e438fd66f0da602f48ba86d\", element=\"f.780B014153235B243CCA11A39546977A.d.DC8802FB903109832097679946AC0C5F.e.29\")>"
      ]
     },
     "execution_count": 2,
     "metadata": {},
     "output_type": "execute_result"
    }
   ],
   "source": [
    "driver = webdriver.Chrome()\n",
    "driver.get(\"https://www.amazon.in/\")\n",
    "delay = 10 #in seconds\n",
    "WebDriverWait(driver, delay).until(EC.presence_of_element_located((By.CLASS_NAME, 'nav_last')))\n",
    "element = driver.find_element(By.XPATH, \"//li[@class='nav_last']\")\n",
    "element"
   ]
  },
  {
   "cell_type": "code",
   "execution_count": 3,
   "id": "26395613",
   "metadata": {},
   "outputs": [],
   "source": [
    "driver.close()"
   ]
  },
  {
   "cell_type": "markdown",
   "id": "bdd3c8af",
   "metadata": {},
   "source": [
    "3--->Stale Element Exception"
   ]
  },
  {
   "cell_type": "code",
   "execution_count": 15,
   "id": "1ccb7051",
   "metadata": {},
   "outputs": [],
   "source": [
    "#Importing Required Classes\n",
    "from selenium import webdriver\n",
    "from selenium.webdriver.support.ui import WebDriverWait\n",
    "from selenium.webdriver.support import expected_conditions as EC\n",
    "from selenium.webdriver.common.by import By\n",
    "from selenium.common.exceptions import StaleElementReferenceException #Importing Exception"
   ]
  },
  {
   "cell_type": "code",
   "execution_count": 22,
   "id": "cc552388",
   "metadata": {},
   "outputs": [
    {
     "name": "stdout",
     "output_type": "stream",
     "text": [
      "<selenium.webdriver.remote.webelement.WebElement (session=\"f6cdb98c94d1ec8700f412a83846e7ad\", element=\"f.1620EDA707A975DC999A19E39F57C943.d.47243769FC72C1C8AE8443741F5E2551.e.17\")>\n"
     ]
    }
   ],
   "source": [
    "driver = webdriver.Chrome()\n",
    "driver.get('https://www.amazon.in/')\n",
    "delay = 10\n",
    "try:\n",
    "    element = driver.find_element(By.XPATH, \"//li[@class='nav_last']\")\n",
    "    print(element)\n",
    "except StaleElementReferenceException as e:\n",
    "    print(\"Exception Raised: \", e)\n",
    "    print(\"Refreshing Page!\")\n",
    "    driver.get('https://www.amazon.in/')\n",
    "    WebDriverWait(driver, delay).until(EC.presence_of_element_located((By.CLASS_NAME, \"nav_last\")))\n",
    "    element = driver.find_element(By.XPATH, \"//li[@class='nav_last']/a\")\n",
    "    print(element)"
   ]
  },
  {
   "cell_type": "markdown",
   "id": "2d9acb62",
   "metadata": {},
   "source": [
    "driver.close()"
   ]
  },
  {
   "cell_type": "markdown",
   "id": "3c9ae7da",
   "metadata": {},
   "source": [
    "4--->Element Not Interactable Exception"
   ]
  },
  {
   "cell_type": "code",
   "execution_count": 21,
   "id": "49ea8acd",
   "metadata": {},
   "outputs": [],
   "source": [
    "from selenium.common.exceptions import ElementNotInteractableException #Importing Exception"
   ]
  },
  {
   "cell_type": "code",
   "execution_count": 36,
   "id": "aef744d0",
   "metadata": {},
   "outputs": [
    {
     "name": "stdout",
     "output_type": "stream",
     "text": [
      "Exception Raised:  Message: element not interactable\n",
      "  (Session info: chrome=122.0.6261.129)\n",
      "Stacktrace:\n",
      "\tGetHandleVerifier [0x00007FF755C7AD02+56930]\n",
      "\t(No symbol) [0x00007FF755BEF602]\n",
      "\t(No symbol) [0x00007FF755AA419D]\n",
      "\t(No symbol) [0x00007FF755AEACA2]\n",
      "\t(No symbol) [0x00007FF755ADF798]\n",
      "\t(No symbol) [0x00007FF755B0BC9A]\n",
      "\t(No symbol) [0x00007FF755ADF09A]\n",
      "\t(No symbol) [0x00007FF755B0BEB0]\n",
      "\t(No symbol) [0x00007FF755B281E2]\n",
      "\t(No symbol) [0x00007FF755B0BA43]\n",
      "\t(No symbol) [0x00007FF755ADD438]\n",
      "\t(No symbol) [0x00007FF755ADE4D1]\n",
      "\tGetHandleVerifier [0x00007FF755FF6F8D+3711213]\n",
      "\tGetHandleVerifier [0x00007FF7560504CD+4077101]\n",
      "\tGetHandleVerifier [0x00007FF75604865F+4044735]\n",
      "\tGetHandleVerifier [0x00007FF755D19736+706710]\n",
      "\t(No symbol) [0x00007FF755BFB8DF]\n",
      "\t(No symbol) [0x00007FF755BF6AC4]\n",
      "\t(No symbol) [0x00007FF755BF6C1C]\n",
      "\t(No symbol) [0x00007FF755BE68D4]\n",
      "\tBaseThreadInitThunk [0x00007FFCB841257D+29]\n",
      "\tRtlUserThreadStart [0x00007FFCBA0EAA58+40]\n",
      "\n"
     ]
    },
    {
     "ename": "ElementNotInteractableException",
     "evalue": "Message: element not interactable\n  (Session info: chrome=122.0.6261.129)\nStacktrace:\n\tGetHandleVerifier [0x00007FF755C7AD02+56930]\n\t(No symbol) [0x00007FF755BEF602]\n\t(No symbol) [0x00007FF755AA419D]\n\t(No symbol) [0x00007FF755AEACA2]\n\t(No symbol) [0x00007FF755ADF798]\n\t(No symbol) [0x00007FF755B0BC9A]\n\t(No symbol) [0x00007FF755ADF09A]\n\t(No symbol) [0x00007FF755B0BEB0]\n\t(No symbol) [0x00007FF755B281E2]\n\t(No symbol) [0x00007FF755B0BA43]\n\t(No symbol) [0x00007FF755ADD438]\n\t(No symbol) [0x00007FF755ADE4D1]\n\tGetHandleVerifier [0x00007FF755FF6F8D+3711213]\n\tGetHandleVerifier [0x00007FF7560504CD+4077101]\n\tGetHandleVerifier [0x00007FF75604865F+4044735]\n\tGetHandleVerifier [0x00007FF755D19736+706710]\n\t(No symbol) [0x00007FF755BFB8DF]\n\t(No symbol) [0x00007FF755BF6AC4]\n\t(No symbol) [0x00007FF755BF6C1C]\n\t(No symbol) [0x00007FF755BE68D4]\n\tBaseThreadInitThunk [0x00007FFCB841257D+29]\n\tRtlUserThreadStart [0x00007FFCBA0EAA58+40]\n",
     "output_type": "error",
     "traceback": [
      "\u001b[1;31m---------------------------------------------------------------------------\u001b[0m",
      "\u001b[1;31mElementNotInteractableException\u001b[0m           Traceback (most recent call last)",
      "Cell \u001b[1;32mIn[36], line 6\u001b[0m\n\u001b[0;32m      5\u001b[0m     element \u001b[38;5;241m=\u001b[39m driver\u001b[38;5;241m.\u001b[39mfind_element(By\u001b[38;5;241m.\u001b[39mXPATH, \u001b[38;5;124m\"\u001b[39m\u001b[38;5;124m//i[@class=\u001b[39m\u001b[38;5;124m'\u001b[39m\u001b[38;5;124ma-icon a-icon-previous-rounded\u001b[39m\u001b[38;5;124m'\u001b[39m\u001b[38;5;124m]\u001b[39m\u001b[38;5;124m\"\u001b[39m)\n\u001b[1;32m----> 6\u001b[0m     \u001b[43melement\u001b[49m\u001b[38;5;241;43m.\u001b[39;49m\u001b[43mclick\u001b[49m\u001b[43m(\u001b[49m\u001b[43m)\u001b[49m\n\u001b[0;32m      7\u001b[0m \u001b[38;5;28;01mexcept\u001b[39;00m ElementNotInteractableException \u001b[38;5;28;01mas\u001b[39;00m e:\n",
      "File \u001b[1;32m~\\anaconda3\\lib\\site-packages\\selenium\\webdriver\\remote\\webelement.py:94\u001b[0m, in \u001b[0;36mWebElement.click\u001b[1;34m(self)\u001b[0m\n\u001b[0;32m     93\u001b[0m \u001b[38;5;124;03m\"\"\"Clicks the element.\"\"\"\u001b[39;00m\n\u001b[1;32m---> 94\u001b[0m \u001b[38;5;28;43mself\u001b[39;49m\u001b[38;5;241;43m.\u001b[39;49m\u001b[43m_execute\u001b[49m\u001b[43m(\u001b[49m\u001b[43mCommand\u001b[49m\u001b[38;5;241;43m.\u001b[39;49m\u001b[43mCLICK_ELEMENT\u001b[49m\u001b[43m)\u001b[49m\n",
      "File \u001b[1;32m~\\anaconda3\\lib\\site-packages\\selenium\\webdriver\\remote\\webelement.py:395\u001b[0m, in \u001b[0;36mWebElement._execute\u001b[1;34m(self, command, params)\u001b[0m\n\u001b[0;32m    394\u001b[0m params[\u001b[38;5;124m\"\u001b[39m\u001b[38;5;124mid\u001b[39m\u001b[38;5;124m\"\u001b[39m] \u001b[38;5;241m=\u001b[39m \u001b[38;5;28mself\u001b[39m\u001b[38;5;241m.\u001b[39m_id\n\u001b[1;32m--> 395\u001b[0m \u001b[38;5;28;01mreturn\u001b[39;00m \u001b[38;5;28;43mself\u001b[39;49m\u001b[38;5;241;43m.\u001b[39;49m\u001b[43m_parent\u001b[49m\u001b[38;5;241;43m.\u001b[39;49m\u001b[43mexecute\u001b[49m\u001b[43m(\u001b[49m\u001b[43mcommand\u001b[49m\u001b[43m,\u001b[49m\u001b[43m \u001b[49m\u001b[43mparams\u001b[49m\u001b[43m)\u001b[49m\n",
      "File \u001b[1;32m~\\anaconda3\\lib\\site-packages\\selenium\\webdriver\\remote\\webdriver.py:347\u001b[0m, in \u001b[0;36mWebDriver.execute\u001b[1;34m(self, driver_command, params)\u001b[0m\n\u001b[0;32m    346\u001b[0m \u001b[38;5;28;01mif\u001b[39;00m response:\n\u001b[1;32m--> 347\u001b[0m     \u001b[38;5;28;43mself\u001b[39;49m\u001b[38;5;241;43m.\u001b[39;49m\u001b[43merror_handler\u001b[49m\u001b[38;5;241;43m.\u001b[39;49m\u001b[43mcheck_response\u001b[49m\u001b[43m(\u001b[49m\u001b[43mresponse\u001b[49m\u001b[43m)\u001b[49m\n\u001b[0;32m    348\u001b[0m     response[\u001b[38;5;124m\"\u001b[39m\u001b[38;5;124mvalue\u001b[39m\u001b[38;5;124m\"\u001b[39m] \u001b[38;5;241m=\u001b[39m \u001b[38;5;28mself\u001b[39m\u001b[38;5;241m.\u001b[39m_unwrap_value(response\u001b[38;5;241m.\u001b[39mget(\u001b[38;5;124m\"\u001b[39m\u001b[38;5;124mvalue\u001b[39m\u001b[38;5;124m\"\u001b[39m, \u001b[38;5;28;01mNone\u001b[39;00m))\n",
      "File \u001b[1;32m~\\anaconda3\\lib\\site-packages\\selenium\\webdriver\\remote\\errorhandler.py:229\u001b[0m, in \u001b[0;36mErrorHandler.check_response\u001b[1;34m(self, response)\u001b[0m\n\u001b[0;32m    228\u001b[0m     \u001b[38;5;28;01mraise\u001b[39;00m exception_class(message, screen, stacktrace, alert_text)  \u001b[38;5;66;03m# type: ignore[call-arg]  # mypy is not smart enough here\u001b[39;00m\n\u001b[1;32m--> 229\u001b[0m \u001b[38;5;28;01mraise\u001b[39;00m exception_class(message, screen, stacktrace)\n",
      "\u001b[1;31mElementNotInteractableException\u001b[0m: Message: element not interactable\n  (Session info: chrome=122.0.6261.129)\nStacktrace:\n\tGetHandleVerifier [0x00007FF755C7AD02+56930]\n\t(No symbol) [0x00007FF755BEF602]\n\t(No symbol) [0x00007FF755AA419D]\n\t(No symbol) [0x00007FF755AEACA2]\n\t(No symbol) [0x00007FF755ADF798]\n\t(No symbol) [0x00007FF755B0BC9A]\n\t(No symbol) [0x00007FF755ADF09A]\n\t(No symbol) [0x00007FF755B0BEB0]\n\t(No symbol) [0x00007FF755B281E2]\n\t(No symbol) [0x00007FF755B0BA43]\n\t(No symbol) [0x00007FF755ADD438]\n\t(No symbol) [0x00007FF755ADE4D1]\n\tGetHandleVerifier [0x00007FF755FF6F8D+3711213]\n\tGetHandleVerifier [0x00007FF7560504CD+4077101]\n\tGetHandleVerifier [0x00007FF75604865F+4044735]\n\tGetHandleVerifier [0x00007FF755D19736+706710]\n\t(No symbol) [0x00007FF755BFB8DF]\n\t(No symbol) [0x00007FF755BF6AC4]\n\t(No symbol) [0x00007FF755BF6C1C]\n\t(No symbol) [0x00007FF755BE68D4]\n\tBaseThreadInitThunk [0x00007FFCB841257D+29]\n\tRtlUserThreadStart [0x00007FFCBA0EAA58+40]\n",
      "\nDuring handling of the above exception, another exception occurred:\n",
      "\u001b[1;31mElementNotInteractableException\u001b[0m           Traceback (most recent call last)",
      "Cell \u001b[1;32mIn[36], line 10\u001b[0m\n\u001b[0;32m      8\u001b[0m \u001b[38;5;28mprint\u001b[39m(\u001b[38;5;124m\"\u001b[39m\u001b[38;5;124mException Raised: \u001b[39m\u001b[38;5;124m\"\u001b[39m, e)\n\u001b[0;32m      9\u001b[0m element1 \u001b[38;5;241m=\u001b[39m driver\u001b[38;5;241m.\u001b[39mfind_element(By\u001b[38;5;241m.\u001b[39mXPATH, \u001b[38;5;124m\"\u001b[39m\u001b[38;5;124m//a[@class=\u001b[39m\u001b[38;5;124m'\u001b[39m\u001b[38;5;124ma-carousel-goto-nextpage\u001b[39m\u001b[38;5;124m'\u001b[39m\u001b[38;5;124m]\u001b[39m\u001b[38;5;124m\"\u001b[39m)\n\u001b[1;32m---> 10\u001b[0m \u001b[43melement1\u001b[49m\u001b[38;5;241;43m.\u001b[39;49m\u001b[43mclick\u001b[49m\u001b[43m(\u001b[49m\u001b[43m)\u001b[49m\n",
      "File \u001b[1;32m~\\anaconda3\\lib\\site-packages\\selenium\\webdriver\\remote\\webelement.py:94\u001b[0m, in \u001b[0;36mWebElement.click\u001b[1;34m(self)\u001b[0m\n\u001b[0;32m     92\u001b[0m \u001b[38;5;28;01mdef\u001b[39;00m \u001b[38;5;21mclick\u001b[39m(\u001b[38;5;28mself\u001b[39m) \u001b[38;5;241m-\u001b[39m\u001b[38;5;241m>\u001b[39m \u001b[38;5;28;01mNone\u001b[39;00m:\n\u001b[0;32m     93\u001b[0m     \u001b[38;5;124;03m\"\"\"Clicks the element.\"\"\"\u001b[39;00m\n\u001b[1;32m---> 94\u001b[0m     \u001b[38;5;28;43mself\u001b[39;49m\u001b[38;5;241;43m.\u001b[39;49m\u001b[43m_execute\u001b[49m\u001b[43m(\u001b[49m\u001b[43mCommand\u001b[49m\u001b[38;5;241;43m.\u001b[39;49m\u001b[43mCLICK_ELEMENT\u001b[49m\u001b[43m)\u001b[49m\n",
      "File \u001b[1;32m~\\anaconda3\\lib\\site-packages\\selenium\\webdriver\\remote\\webelement.py:395\u001b[0m, in \u001b[0;36mWebElement._execute\u001b[1;34m(self, command, params)\u001b[0m\n\u001b[0;32m    393\u001b[0m     params \u001b[38;5;241m=\u001b[39m {}\n\u001b[0;32m    394\u001b[0m params[\u001b[38;5;124m\"\u001b[39m\u001b[38;5;124mid\u001b[39m\u001b[38;5;124m\"\u001b[39m] \u001b[38;5;241m=\u001b[39m \u001b[38;5;28mself\u001b[39m\u001b[38;5;241m.\u001b[39m_id\n\u001b[1;32m--> 395\u001b[0m \u001b[38;5;28;01mreturn\u001b[39;00m \u001b[38;5;28;43mself\u001b[39;49m\u001b[38;5;241;43m.\u001b[39;49m\u001b[43m_parent\u001b[49m\u001b[38;5;241;43m.\u001b[39;49m\u001b[43mexecute\u001b[49m\u001b[43m(\u001b[49m\u001b[43mcommand\u001b[49m\u001b[43m,\u001b[49m\u001b[43m \u001b[49m\u001b[43mparams\u001b[49m\u001b[43m)\u001b[49m\n",
      "File \u001b[1;32m~\\anaconda3\\lib\\site-packages\\selenium\\webdriver\\remote\\webdriver.py:347\u001b[0m, in \u001b[0;36mWebDriver.execute\u001b[1;34m(self, driver_command, params)\u001b[0m\n\u001b[0;32m    345\u001b[0m response \u001b[38;5;241m=\u001b[39m \u001b[38;5;28mself\u001b[39m\u001b[38;5;241m.\u001b[39mcommand_executor\u001b[38;5;241m.\u001b[39mexecute(driver_command, params)\n\u001b[0;32m    346\u001b[0m \u001b[38;5;28;01mif\u001b[39;00m response:\n\u001b[1;32m--> 347\u001b[0m     \u001b[38;5;28;43mself\u001b[39;49m\u001b[38;5;241;43m.\u001b[39;49m\u001b[43merror_handler\u001b[49m\u001b[38;5;241;43m.\u001b[39;49m\u001b[43mcheck_response\u001b[49m\u001b[43m(\u001b[49m\u001b[43mresponse\u001b[49m\u001b[43m)\u001b[49m\n\u001b[0;32m    348\u001b[0m     response[\u001b[38;5;124m\"\u001b[39m\u001b[38;5;124mvalue\u001b[39m\u001b[38;5;124m\"\u001b[39m] \u001b[38;5;241m=\u001b[39m \u001b[38;5;28mself\u001b[39m\u001b[38;5;241m.\u001b[39m_unwrap_value(response\u001b[38;5;241m.\u001b[39mget(\u001b[38;5;124m\"\u001b[39m\u001b[38;5;124mvalue\u001b[39m\u001b[38;5;124m\"\u001b[39m, \u001b[38;5;28;01mNone\u001b[39;00m))\n\u001b[0;32m    349\u001b[0m     \u001b[38;5;28;01mreturn\u001b[39;00m response\n",
      "File \u001b[1;32m~\\anaconda3\\lib\\site-packages\\selenium\\webdriver\\remote\\errorhandler.py:229\u001b[0m, in \u001b[0;36mErrorHandler.check_response\u001b[1;34m(self, response)\u001b[0m\n\u001b[0;32m    227\u001b[0m         alert_text \u001b[38;5;241m=\u001b[39m value[\u001b[38;5;124m\"\u001b[39m\u001b[38;5;124malert\u001b[39m\u001b[38;5;124m\"\u001b[39m]\u001b[38;5;241m.\u001b[39mget(\u001b[38;5;124m\"\u001b[39m\u001b[38;5;124mtext\u001b[39m\u001b[38;5;124m\"\u001b[39m)\n\u001b[0;32m    228\u001b[0m     \u001b[38;5;28;01mraise\u001b[39;00m exception_class(message, screen, stacktrace, alert_text)  \u001b[38;5;66;03m# type: ignore[call-arg]  # mypy is not smart enough here\u001b[39;00m\n\u001b[1;32m--> 229\u001b[0m \u001b[38;5;28;01mraise\u001b[39;00m exception_class(message, screen, stacktrace)\n",
      "\u001b[1;31mElementNotInteractableException\u001b[0m: Message: element not interactable\n  (Session info: chrome=122.0.6261.129)\nStacktrace:\n\tGetHandleVerifier [0x00007FF755C7AD02+56930]\n\t(No symbol) [0x00007FF755BEF602]\n\t(No symbol) [0x00007FF755AA419D]\n\t(No symbol) [0x00007FF755AEACA2]\n\t(No symbol) [0x00007FF755ADF798]\n\t(No symbol) [0x00007FF755B0BC9A]\n\t(No symbol) [0x00007FF755ADF09A]\n\t(No symbol) [0x00007FF755B0BEB0]\n\t(No symbol) [0x00007FF755B281E2]\n\t(No symbol) [0x00007FF755B0BA43]\n\t(No symbol) [0x00007FF755ADD438]\n\t(No symbol) [0x00007FF755ADE4D1]\n\tGetHandleVerifier [0x00007FF755FF6F8D+3711213]\n\tGetHandleVerifier [0x00007FF7560504CD+4077101]\n\tGetHandleVerifier [0x00007FF75604865F+4044735]\n\tGetHandleVerifier [0x00007FF755D19736+706710]\n\t(No symbol) [0x00007FF755BFB8DF]\n\t(No symbol) [0x00007FF755BF6AC4]\n\t(No symbol) [0x00007FF755BF6C1C]\n\t(No symbol) [0x00007FF755BE68D4]\n\tBaseThreadInitThunk [0x00007FFCB841257D+29]\n\tRtlUserThreadStart [0x00007FFCBA0EAA58+40]\n"
     ]
    }
   ],
   "source": [
    "driver = webdriver.Chrome()\n",
    "driver.get('https://www.amazon.in/')\n",
    "time.sleep(5)\n",
    "try:\n",
    "    element = driver.find_element(By.XPATH, \"//i[@class='a-icon a-icon-previous-rounded']\")\n",
    "    element.click()\n",
    "except ElementNotInteractableException as e:\n",
    "    print(\"Exception Raised: \", e)\n",
    "    element1 = driver.find_element(By.XPATH, \"//a[@class='a-carousel-goto-nextpage']\")\n",
    "    driver.get(element.get_attribute('href'))"
   ]
  },
  {
   "cell_type": "code",
   "execution_count": 37,
   "id": "3a98334d",
   "metadata": {},
   "outputs": [],
   "source": [
    "driver.close()"
   ]
  },
  {
   "cell_type": "markdown",
   "id": "c04bdf8c",
   "metadata": {},
   "source": [
    "5---> Time Out Exception"
   ]
  },
  {
   "cell_type": "code",
   "execution_count": 39,
   "id": "ed846534",
   "metadata": {},
   "outputs": [],
   "source": [
    "#Importing Required Classes\n",
    "from selenium import webdriver\n",
    "from selenium.webdriver.support.ui import WebDriverWait\n",
    "from selenium.webdriver.support import expected_conditions as EC\n",
    "from selenium.webdriver.common.by import By\n",
    "from selenium.common.exceptions import TimeoutException #Importing Exception"
   ]
  },
  {
   "cell_type": "code",
   "execution_count": 40,
   "id": "9e1ff739",
   "metadata": {},
   "outputs": [
    {
     "name": "stdout",
     "output_type": "stream",
     "text": [
      "Exception Raised:  Message: \n",
      "Stacktrace:\n",
      "\tGetHandleVerifier [0x00007FF755C7AD02+56930]\n",
      "\t(No symbol) [0x00007FF755BEF602]\n",
      "\t(No symbol) [0x00007FF755AA42E5]\n",
      "\t(No symbol) [0x00007FF755AE98ED]\n",
      "\t(No symbol) [0x00007FF755AE9A2C]\n",
      "\t(No symbol) [0x00007FF755B2A967]\n",
      "\t(No symbol) [0x00007FF755B0BCDF]\n",
      "\t(No symbol) [0x00007FF755B281E2]\n",
      "\t(No symbol) [0x00007FF755B0BA43]\n",
      "\t(No symbol) [0x00007FF755ADD438]\n",
      "\t(No symbol) [0x00007FF755ADE4D1]\n",
      "\tGetHandleVerifier [0x00007FF755FF6F8D+3711213]\n",
      "\tGetHandleVerifier [0x00007FF7560504CD+4077101]\n",
      "\tGetHandleVerifier [0x00007FF75604865F+4044735]\n",
      "\tGetHandleVerifier [0x00007FF755D19736+706710]\n",
      "\t(No symbol) [0x00007FF755BFB8DF]\n",
      "\t(No symbol) [0x00007FF755BF6AC4]\n",
      "\t(No symbol) [0x00007FF755BF6C1C]\n",
      "\t(No symbol) [0x00007FF755BE68D4]\n",
      "\tBaseThreadInitThunk [0x00007FFCB841257D+29]\n",
      "\tRtlUserThreadStart [0x00007FFCBA0EAA58+40]\n",
      "\n"
     ]
    }
   ],
   "source": [
    "driver = webdriver.Chrome()\n",
    "delay = 5\n",
    "try:\n",
    "    driver.get(\"https://www.amazon.in/\")\n",
    "    WebDriverWait(driver, delay).until(EC.presence_of_element_located((By.CLASS_NAME, \"a-section a-spacing-mini\")))\n",
    "    element = driver.find_element(By.XPATH, \"//li[@class='a-section a-spacing-mini']\")\n",
    "    print(element)\n",
    "except TimeoutException as e:\n",
    "    print(\"Exception Raised: \", e)"
   ]
  },
  {
   "cell_type": "code",
   "execution_count": 41,
   "id": "d556e836",
   "metadata": {},
   "outputs": [],
   "source": [
    "driver.close()"
   ]
  },
  {
   "cell_type": "markdown",
   "id": "00d41b7c",
   "metadata": {},
   "source": [
    "# 6---> Opening Chrome in Incognito mode"
   ]
  },
  {
   "cell_type": "code",
   "execution_count": 49,
   "id": "a9084a0c",
   "metadata": {},
   "outputs": [],
   "source": [
    "from selenium import webdriver\n",
    "from selenium.webdriver.chrome.options import Options #importing options\n",
    "chrome_options = Options()\n",
    "chrome_options.add_argument('--incognito')"
   ]
  },
  {
   "cell_type": "code",
   "execution_count": 50,
   "id": "0d2f3401",
   "metadata": {},
   "outputs": [],
   "source": [
    "driver = webdriver.Chrome(chrome_options)"
   ]
  },
  {
   "cell_type": "code",
   "execution_count": 51,
   "id": "c1554427",
   "metadata": {},
   "outputs": [],
   "source": [
    "driver.get(\"https://www.google.com/\")"
   ]
  },
  {
   "cell_type": "code",
   "execution_count": 52,
   "id": "d482121e",
   "metadata": {},
   "outputs": [],
   "source": [
    "driver.close()"
   ]
  },
  {
   "cell_type": "markdown",
   "id": "ff3bd875",
   "metadata": {},
   "source": [
    "# Selenium Web Scraping - Exceptions Handling"
   ]
  },
  {
   "cell_type": "code",
   "execution_count": 2,
   "id": "68e75341",
   "metadata": {},
   "outputs": [],
   "source": [
    "#importing Selenium, pandas, selenium webdriver, warnings, and time\n",
    "import selenium\n",
    "import pandas as pd\n",
    "from bs4 import BeautifulSoup\n",
    "import time\n",
    "\n",
    "#importing selenium webdriver\n",
    "from selenium import webdriver\n",
    "\n",
    "#importing warnings\n",
    "import warnings\n",
    "warnings.filterwarnings('ignore')\n",
    "\n",
    "from selenium.webdriver.common.by import By\n",
    "from selenium.webdriver.support.ui import WebDriverWait\n",
    "from selenium.webdriver.support import expected_conditions as EC\n",
    "\n",
    "#Importing Exceptions\n",
    "from selenium.common.exceptions import NoSuchElementException as NSEE\n",
    "from selenium.common.exceptions import StaleElementReferenceException as SERE\n",
    "from selenium.common.exceptions import ElementNotInteractableException as ENIE\n",
    "from selenium.common.exceptions import TimeoutException as TE"
   ]
  },
  {
   "cell_type": "code",
   "execution_count": 3,
   "id": "8b144caf",
   "metadata": {},
   "outputs": [],
   "source": [
    "driver = webdriver.Chrome() #opening automated chrome web browser"
   ]
  },
  {
   "cell_type": "code",
   "execution_count": 72,
   "id": "4c8b7e0d",
   "metadata": {},
   "outputs": [],
   "source": [
    "driver.maximize_window() #maximize the web browser"
   ]
  },
  {
   "cell_type": "code",
   "execution_count": 4,
   "id": "b2c00764",
   "metadata": {},
   "outputs": [],
   "source": [
    "#fetching url\n",
    "driver.get('https://www.naukri.com/')"
   ]
  },
  {
   "cell_type": "code",
   "execution_count": 74,
   "id": "0f3a80b5",
   "metadata": {},
   "outputs": [],
   "source": [
    "#Entering “Data Scientist” in “Skill, Designations, and Companies” field\n",
    "search_field_designation = driver.find_element(By.CLASS_NAME,\"suggestor-input \")\n",
    "search_field_designation.send_keys('Data Scientist')"
   ]
  },
  {
   "cell_type": "code",
   "execution_count": 75,
   "id": "8ab31d71",
   "metadata": {},
   "outputs": [],
   "source": [
    "#and enter “Bangalore” in “enter the location” field\n",
    "search_field_location = driver.find_element(By.XPATH,'/html/body/div[1]/div[7]/div/div/div[5]/div/div/div/div[1]/div/input')\n",
    "search_field_location.send_keys('Bangalore')"
   ]
  },
  {
   "cell_type": "code",
   "execution_count": 76,
   "id": "1d882712",
   "metadata": {},
   "outputs": [],
   "source": [
    "#clicking the search button\n",
    "search_button = driver.find_element(By.CLASS_NAME,\"qsbSubmit\")\n",
    "search_button.click()"
   ]
  },
  {
   "cell_type": "code",
   "execution_count": 77,
   "id": "fb11e030",
   "metadata": {},
   "outputs": [],
   "source": [
    "#fetching urls to open each job\n",
    "job_opening_url = []\n",
    "start = 0\n",
    "end = 2\n",
    "for page in range(start, end):\n",
    "    url = driver.find_elements(By.XPATH, '//div[@class=\"cust-job-tuple layout-wrapper lay-2 sjw__tuple \"]/div/a')\n",
    "    for i in url:\n",
    "        job_opening_url.append(i.get_attribute('href')) #to retrieve any link we use get_attribute\n",
    "    next_button = driver.find_elements(By.XPATH, '/html/body/div/div/main/div[1]/div[2]/div[3]/div/a[2]/span')"
   ]
  },
  {
   "cell_type": "code",
   "execution_count": 78,
   "id": "682dfd06",
   "metadata": {},
   "outputs": [
    {
     "data": {
      "text/plain": [
       "40"
      ]
     },
     "execution_count": 78,
     "metadata": {},
     "output_type": "execute_result"
    }
   ],
   "source": [
    "len(job_opening_url)"
   ]
  },
  {
   "cell_type": "code",
   "execution_count": 79,
   "id": "2034cfa0",
   "metadata": {},
   "outputs": [
    {
     "data": {
      "text/plain": [
       "['https://www.naukri.com/job-listings-senior-data-scientist-reporting-coursera-kolkata-mumbai-new-delhi-hyderabad-secunderabad-pune-chennai-bangalore-bengaluru-6-to-7-years-220124502188',\n",
       " 'https://www.naukri.com/job-listings-data-scientist-marketing-coursera-kolkata-mumbai-new-delhi-hyderabad-secunderabad-pune-chennai-bangalore-bengaluru-4-to-6-years-240124501248',\n",
       " 'https://www.naukri.com/job-listings-data-scientist-ford-global-business-services-kolkata-mumbai-new-delhi-hyderabad-pune-chennai-bengaluru-3-to-6-years-291123502308',\n",
       " 'https://www.naukri.com/job-listings-ai-data-scientist-ford-global-business-services-kolkata-mumbai-new-delhi-hyderabad-pune-chennai-bengaluru-2-to-6-years-230124501799',\n",
       " 'https://www.naukri.com/job-listings-genai-data-scientist-ford-global-business-services-kolkata-mumbai-new-delhi-hyderabad-pune-chennai-bengaluru-5-to-6-years-101123500520',\n",
       " 'https://www.naukri.com/job-listings-data-scientist-hthd-ford-global-business-services-kolkata-mumbai-new-delhi-hyderabad-pune-chennai-bengaluru-1-to-4-years-070224500182',\n",
       " 'https://www.naukri.com/job-listings-data-scientist-senior-associate-p-t-labs-pricewaterhouse-coopers-private-limited-mumbai-hyderabad-bengaluru-4-to-6-years-070324502187',\n",
       " 'https://www.naukri.com/job-listings-data-scientist-birlasoft-bangalore-rural-karnataka-mumbai-all-areas-8-to-12-years-150324005757',\n",
       " 'https://www.naukri.com/job-listings-data-scientist-hcltech-noida-uttar-pradesh-hyderabad-bengaluru-10-to-18-years-230224009579',\n",
       " 'https://www.naukri.com/job-listings-lead-data-scientist-honeywell-greater-noida-bengaluru-6-to-9-years-200324500702',\n",
       " 'https://www.naukri.com/job-listings-principal-data-scientist-walmart-labs-bengaluru-12-to-20-years-200324500461',\n",
       " 'https://www.naukri.com/job-listings-xoriant-is-hiring-senior-generative-ai-engineer-xoriant-pune-maharashtra-bangalore-rural-karnataka-mumbai-all-areas-5-to-10-years-160124007200',\n",
       " 'https://www.naukri.com/job-listings-hcl-hiring-senior-data-scientist-role-location-bangalore-pune-hcltech-pune-maharashtra-bangalore-rural-karnataka-10-to-20-years-130324012738',\n",
       " 'https://www.naukri.com/job-listings-data-scientist-immediate-joiner-l1-hackerrank-please-check-your-email-altimetrik-hyderabad-chennai-bengaluru-5-to-8-years-120124005498',\n",
       " 'https://www.naukri.com/job-listings-data-scientist-1-paypal-holdings-inc-bengaluru-4-to-8-years-200324500447',\n",
       " 'https://www.naukri.com/job-listings-fraud-intelligence-data-scientist-paypal-holdings-inc-bengaluru-4-to-8-years-190324500664',\n",
       " 'https://www.naukri.com/job-listings-data-scientist-infosys-limited-bengaluru-2-to-5-years-180324905073',\n",
       " 'https://www.naukri.com/job-listings-senior-data-scientist-walmart-labs-bengaluru-10-to-20-years-180324501018',\n",
       " 'https://www.naukri.com/job-listings-data-scientist-applied-materials-india-private-limited-bengaluru-4-to-7-years-150324905960',\n",
       " 'https://www.naukri.com/job-listings-data-scientist-i-ii-philips-india-limited-bengaluru-4-to-6-years-150324501657',\n",
       " 'https://www.naukri.com/job-listings-senior-data-scientist-reporting-coursera-kolkata-mumbai-new-delhi-hyderabad-secunderabad-pune-chennai-bangalore-bengaluru-6-to-7-years-220124502188',\n",
       " 'https://www.naukri.com/job-listings-data-scientist-marketing-coursera-kolkata-mumbai-new-delhi-hyderabad-secunderabad-pune-chennai-bangalore-bengaluru-4-to-6-years-240124501248',\n",
       " 'https://www.naukri.com/job-listings-data-scientist-ford-global-business-services-kolkata-mumbai-new-delhi-hyderabad-pune-chennai-bengaluru-3-to-6-years-291123502308',\n",
       " 'https://www.naukri.com/job-listings-ai-data-scientist-ford-global-business-services-kolkata-mumbai-new-delhi-hyderabad-pune-chennai-bengaluru-2-to-6-years-230124501799',\n",
       " 'https://www.naukri.com/job-listings-genai-data-scientist-ford-global-business-services-kolkata-mumbai-new-delhi-hyderabad-pune-chennai-bengaluru-5-to-6-years-101123500520',\n",
       " 'https://www.naukri.com/job-listings-data-scientist-hthd-ford-global-business-services-kolkata-mumbai-new-delhi-hyderabad-pune-chennai-bengaluru-1-to-4-years-070224500182',\n",
       " 'https://www.naukri.com/job-listings-data-scientist-senior-associate-p-t-labs-pricewaterhouse-coopers-private-limited-mumbai-hyderabad-bengaluru-4-to-6-years-070324502187',\n",
       " 'https://www.naukri.com/job-listings-data-scientist-birlasoft-bangalore-rural-karnataka-mumbai-all-areas-8-to-12-years-150324005757',\n",
       " 'https://www.naukri.com/job-listings-data-scientist-hcltech-noida-uttar-pradesh-hyderabad-bengaluru-10-to-18-years-230224009579',\n",
       " 'https://www.naukri.com/job-listings-lead-data-scientist-honeywell-greater-noida-bengaluru-6-to-9-years-200324500702',\n",
       " 'https://www.naukri.com/job-listings-principal-data-scientist-walmart-labs-bengaluru-12-to-20-years-200324500461',\n",
       " 'https://www.naukri.com/job-listings-xoriant-is-hiring-senior-generative-ai-engineer-xoriant-pune-maharashtra-bangalore-rural-karnataka-mumbai-all-areas-5-to-10-years-160124007200',\n",
       " 'https://www.naukri.com/job-listings-hcl-hiring-senior-data-scientist-role-location-bangalore-pune-hcltech-pune-maharashtra-bangalore-rural-karnataka-10-to-20-years-130324012738',\n",
       " 'https://www.naukri.com/job-listings-data-scientist-immediate-joiner-l1-hackerrank-please-check-your-email-altimetrik-hyderabad-chennai-bengaluru-5-to-8-years-120124005498',\n",
       " 'https://www.naukri.com/job-listings-data-scientist-1-paypal-holdings-inc-bengaluru-4-to-8-years-200324500447',\n",
       " 'https://www.naukri.com/job-listings-fraud-intelligence-data-scientist-paypal-holdings-inc-bengaluru-4-to-8-years-190324500664',\n",
       " 'https://www.naukri.com/job-listings-data-scientist-infosys-limited-bengaluru-2-to-5-years-180324905073',\n",
       " 'https://www.naukri.com/job-listings-senior-data-scientist-walmart-labs-bengaluru-10-to-20-years-180324501018',\n",
       " 'https://www.naukri.com/job-listings-data-scientist-applied-materials-india-private-limited-bengaluru-4-to-7-years-150324905960',\n",
       " 'https://www.naukri.com/job-listings-data-scientist-i-ii-philips-india-limited-bengaluru-4-to-6-years-150324501657']"
      ]
     },
     "execution_count": 79,
     "metadata": {},
     "output_type": "execute_result"
    }
   ],
   "source": [
    "job_opening_url"
   ]
  },
  {
   "cell_type": "code",
   "execution_count": 81,
   "id": "804b8574",
   "metadata": {},
   "outputs": [],
   "source": [
    "#clicking on job url for JD\n",
    "job_title = driver.find_element(By.XPATH, '//div[@class=\"cust-job-tuple layout-wrapper lay-2 sjw__tuple \"]/div/a')\n",
    "job_title.click()"
   ]
  },
  {
   "cell_type": "code",
   "execution_count": 82,
   "id": "3d55b6f3",
   "metadata": {},
   "outputs": [],
   "source": [
    "job_description = [] #Creating an emplty list for JD\n",
    "\n",
    "for i in job_opening_url: #iterating each and every url to fetch full job details\n",
    "    driver.get(i)\n",
    "    time.sleep(5)\n",
    "    try:\n",
    "        description = driver.find_element(By.XPATH, '//div[@class=\"styles_JDC__dang-inner-html__h0K4t\"]/div/div')\n",
    "        job_description.append(description.text)\n",
    "    except NSEE:\n",
    "        job_description.append('Job Description is not present')"
   ]
  },
  {
   "cell_type": "code",
   "execution_count": 83,
   "id": "926e1bbe",
   "metadata": {},
   "outputs": [
    {
     "data": {
      "text/plain": [
       "['We are seeking a highly skilled and collaborative Senior Data Scientist to join our team\\nReporting to the Director of Data Science, you will work alongside and provide technical guidance to a subset of our Analytics and Insights group and provide support to a few business lines including Industry and University Partnerships, and Content/Credentials supporting Product, Marketing, Content, Finance, Services, and more\\nAs a Senior Data Scientist, you will influence strategies and roadmaps for business units within your purview through actionable insights\\nYour responsibilities will include forecasting content performance, informing content acquisition and prescribing improvements, addressing A/B testing setups and reporting, answering ad-hoc business questions, defining metrics and goals, building and managing dashboards, causal inference and ML modeling, supporting business event tracking and unification, and more\\nThe ideal candidate will be a creative and collaborative Data Scientist who can proactively drive results in their areas of focus, and provide guidance and best practices around statistical modeling and experimentation, data analysis, and data quality',\n",
       " 'Job Description is not present',\n",
       " 'BE, B.Tech, M.S. or Ph.D. in Engineering, Computer Science, Operations research, Statistics, Applied mathematics, or in a related field\\n3+ years of experience in at least one of the following languages: Python, R, MATLAB, SAS\\n3+ years of hands-on experience in using machine learning/text mining tools and techniques such as Clustering / classification / decision trees, Random forests, Support vector machines, Deep Learning, Neural networks, Reinforcement learning, and other numerical algorithms\\nExperience with GoogleCloud Platform (GCP) including VertexAI, BigQuery, DBT, NoSQL database and Hadoop Ecosystem',\n",
       " 'An MS/PhD in Computer Science, Operational research, Statistics, Applied mathematics, or in any other engineering discipline. PhD strongly preferred.\\nShould have experience in feature engineering, hyper parameter tuning, model evaluation etc.\\nGood exposure to machine learning/text mining tools and techniques such as Clustering/classification like SVM, Deep Learning networks like FRCNN, MRCNN, ResNet, FVRCNN, SalsaNext, NASnet, LSTM Reinforcement learning, and other numerical algorithms\\nShould have experience in using Pandas/Numpy/ScikitLearn, Pytorch, Tensorflow, Keras, ROS, Gazebo, OpenJAUS\\nPractical knowledge of automotive sensors like Camera, RADAR etc.\\nSound knowledge on the Driver assistance systems (feature functions like lane departure prevention, collision avoidance etc.)\\nStrong theoretical knowledge of detection, segmentation, obstacle detection, graphical methods, probabilistic algorithms or optimization\\nHands on with visualization tools for sensors\\nKnowledge in developing, calibrating and testing multi-sensor systems\\nApplied knowledge of point cloud or Lidar based algorithms such as segmentation, localization, filtering\\nStrong background and understanding of mathematical concepts relating to probabilistic models, conditional probability, numerical methods, linear algebra, neural network under the hood details\\nFamiliarity with data science toolkit such as jupyter lab/notebooks, pandas, bash scripting, Linux environment\\nPublications and presentations in recognized (CVPR, NIPS, ECCV, ICML) Machine Learning journals/conferences is a Big plus\\nFamiliarity with any one programming (e.g., C/C++/Java) or scripting (R/Python) languages\\nExcellent problem solving, communication, and data presentation skills',\n",
       " 'Job Description is not present',\n",
       " 'Job Description is not present',\n",
       " 'Job Description is not present',\n",
       " 'Job Description is not present',\n",
       " 'Job Description is not present',\n",
       " 'As a Lead Data Scientist here at Honeywell, you will be responsible forproviding project guidance on data analysis, machine learning, and statisticalmodeling. You will oversee and prioritize data science projects, ensuringalignment with business goals and objectives. You will be responsible forproviding technical leadership and support to the data science team as well ascross-functionally collaborating to understand and identify opportunities forleveraging data to drive business value.\\n\\nYou will report directly to our [Title] and youll work out of our Bangalore,India location on a Hybrid work schedule.\\n\\nIn this role, you will impact the business by optimizing processes, reducingcosts, and identifying growth opportunities through actionable insights derivedfrom data analysis.',\n",
       " 'Job Description is not present',\n",
       " 'Job Description is not present',\n",
       " 'Job Description is not present',\n",
       " 'Job Description is not present',\n",
       " 'Job Description is not present',\n",
       " 'Job Description is not present',\n",
       " 'Responsibilities',\n",
       " 'Job Description is not present',\n",
       " 'Job Description is not present',\n",
       " 'To meet our strategic goals, we are looking for professionals who are passionate about AI, advancing science, and building the next generation of intelligent systems for various health-care applications. Our ambitious AI research agenda is both broad and deep, with leading edge projects in signal/image processing, machine learning, deep learning, and NLP techniques. You will interact with multiple teams on AI and will help bring research ideas into scalable, robust systems.',\n",
       " 'We are seeking a highly skilled and collaborative Senior Data Scientist to join our team\\nReporting to the Director of Data Science, you will work alongside and provide technical guidance to a subset of our Analytics and Insights group and provide support to a few business lines including Industry and University Partnerships, and Content/Credentials supporting Product, Marketing, Content, Finance, Services, and more\\nAs a Senior Data Scientist, you will influence strategies and roadmaps for business units within your purview through actionable insights\\nYour responsibilities will include forecasting content performance, informing content acquisition and prescribing improvements, addressing A/B testing setups and reporting, answering ad-hoc business questions, defining metrics and goals, building and managing dashboards, causal inference and ML modeling, supporting business event tracking and unification, and more\\nThe ideal candidate will be a creative and collaborative Data Scientist who can proactively drive results in their areas of focus, and provide guidance and best practices around statistical modeling and experimentation, data analysis, and data quality',\n",
       " 'Job Description is not present',\n",
       " 'BE, B.Tech, M.S. or Ph.D. in Engineering, Computer Science, Operations research, Statistics, Applied mathematics, or in a related field\\n3+ years of experience in at least one of the following languages: Python, R, MATLAB, SAS\\n3+ years of hands-on experience in using machine learning/text mining tools and techniques such as Clustering / classification / decision trees, Random forests, Support vector machines, Deep Learning, Neural networks, Reinforcement learning, and other numerical algorithms\\nExperience with GoogleCloud Platform (GCP) including VertexAI, BigQuery, DBT, NoSQL database and Hadoop Ecosystem',\n",
       " 'An MS/PhD in Computer Science, Operational research, Statistics, Applied mathematics, or in any other engineering discipline. PhD strongly preferred.\\nShould have experience in feature engineering, hyper parameter tuning, model evaluation etc.\\nGood exposure to machine learning/text mining tools and techniques such as Clustering/classification like SVM, Deep Learning networks like FRCNN, MRCNN, ResNet, FVRCNN, SalsaNext, NASnet, LSTM Reinforcement learning, and other numerical algorithms\\nShould have experience in using Pandas/Numpy/ScikitLearn, Pytorch, Tensorflow, Keras, ROS, Gazebo, OpenJAUS\\nPractical knowledge of automotive sensors like Camera, RADAR etc.\\nSound knowledge on the Driver assistance systems (feature functions like lane departure prevention, collision avoidance etc.)\\nStrong theoretical knowledge of detection, segmentation, obstacle detection, graphical methods, probabilistic algorithms or optimization\\nHands on with visualization tools for sensors\\nKnowledge in developing, calibrating and testing multi-sensor systems\\nApplied knowledge of point cloud or Lidar based algorithms such as segmentation, localization, filtering\\nStrong background and understanding of mathematical concepts relating to probabilistic models, conditional probability, numerical methods, linear algebra, neural network under the hood details\\nFamiliarity with data science toolkit such as jupyter lab/notebooks, pandas, bash scripting, Linux environment\\nPublications and presentations in recognized (CVPR, NIPS, ECCV, ICML) Machine Learning journals/conferences is a Big plus\\nFamiliarity with any one programming (e.g., C/C++/Java) or scripting (R/Python) languages\\nExcellent problem solving, communication, and data presentation skills',\n",
       " 'Job Description is not present',\n",
       " 'Job Description is not present',\n",
       " 'Job Description is not present',\n",
       " 'Job Description is not present',\n",
       " 'Job Description is not present',\n",
       " 'As a Lead Data Scientist here at Honeywell, you will be responsible forproviding project guidance on data analysis, machine learning, and statisticalmodeling. You will oversee and prioritize data science projects, ensuringalignment with business goals and objectives. You will be responsible forproviding technical leadership and support to the data science team as well ascross-functionally collaborating to understand and identify opportunities forleveraging data to drive business value.\\n\\nYou will report directly to our [Title] and youll work out of our Bangalore,India location on a Hybrid work schedule.\\n\\nIn this role, you will impact the business by optimizing processes, reducingcosts, and identifying growth opportunities through actionable insights derivedfrom data analysis.',\n",
       " 'Job Description is not present',\n",
       " 'Job Description is not present',\n",
       " 'Job Description is not present',\n",
       " 'Job Description is not present',\n",
       " 'Job Description is not present',\n",
       " 'Job Description is not present',\n",
       " 'Responsibilities',\n",
       " 'Job Description is not present',\n",
       " 'Job Description is not present',\n",
       " 'To meet our strategic goals, we are looking for professionals who are passionate about AI, advancing science, and building the next generation of intelligent systems for various health-care applications. Our ambitious AI research agenda is both broad and deep, with leading edge projects in signal/image processing, machine learning, deep learning, and NLP techniques. You will interact with multiple teams on AI and will help bring research ideas into scalable, robust systems.']"
      ]
     },
     "execution_count": 83,
     "metadata": {},
     "output_type": "execute_result"
    }
   ],
   "source": [
    "job_description"
   ]
  },
  {
   "cell_type": "code",
   "execution_count": 84,
   "id": "e3072cbd",
   "metadata": {},
   "outputs": [],
   "source": [
    "driver.close()"
   ]
  },
  {
   "cell_type": "code",
   "execution_count": 85,
   "id": "740d73d8",
   "metadata": {},
   "outputs": [
    {
     "data": {
      "text/plain": [
       "40"
      ]
     },
     "execution_count": 85,
     "metadata": {},
     "output_type": "execute_result"
    }
   ],
   "source": [
    "len(job_description)"
   ]
  },
  {
   "cell_type": "code",
   "execution_count": null,
   "id": "c197e5cf-ef70-40d3-990c-49803932c097",
   "metadata": {},
   "outputs": [],
   "source": [
    "\n",
    "\n"
   ]
  }
 ],
 "metadata": {
  "kernelspec": {
   "display_name": "Python 3 (ipykernel)",
   "language": "python",
   "name": "python3"
  },
  "language_info": {
   "codemirror_mode": {
    "name": "ipython",
    "version": 3
   },
   "file_extension": ".py",
   "mimetype": "text/x-python",
   "name": "python",
   "nbconvert_exporter": "python",
   "pygments_lexer": "ipython3",
   "version": "3.11.7"
  }
 },
 "nbformat": 4,
 "nbformat_minor": 5
}
