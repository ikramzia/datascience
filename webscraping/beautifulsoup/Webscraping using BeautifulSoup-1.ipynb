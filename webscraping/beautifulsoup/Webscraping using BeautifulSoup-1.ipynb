{
 "cells": [
  {
   "cell_type": "markdown",
   "id": "2b457c7d",
   "metadata": {},
   "source": [
    "# Webscraping using BeautifulSoup -1\n",
    "by --- Mohammed Ikramuddin"
   ]
  },
  {
   "cell_type": "code",
   "execution_count": null,
   "id": "b64ce524",
   "metadata": {},
   "outputs": [],
   "source": []
  },
  {
   "cell_type": "code",
   "execution_count": null,
   "id": "8bb384bd",
   "metadata": {},
   "outputs": [],
   "source": [
    "!pip install bs4\n",
    "!pip install requests"
   ]
  },
  {
   "cell_type": "markdown",
   "id": "c256945e",
   "metadata": {},
   "source": [
    "1) Write a python program to display IMDB’s Top rated 100 Indian movies’ data https://www.imdb.com/list/ls056092300/ (i.e. name, rating, year of release) and make data frame."
   ]
  },
  {
   "cell_type": "code",
   "execution_count": 1,
   "id": "c52409c1",
   "metadata": {},
   "outputs": [],
   "source": [
    "from bs4 import BeautifulSoup\n",
    "import requests"
   ]
  },
  {
   "cell_type": "markdown",
   "id": "6b37aa63",
   "metadata": {},
   "source": [
    "Send 'get' requests to the webpage server to get the source code of the page"
   ]
  },
  {
   "cell_type": "code",
   "execution_count": 2,
   "id": "c6eea590",
   "metadata": {},
   "outputs": [],
   "source": [
    "imdbpage = requests.get('https://www.imdb.com/list/ls056092300/')"
   ]
  },
  {
   "cell_type": "markdown",
   "id": "f18112eb",
   "metadata": {},
   "source": [
    "imdb top 100 indian movies Page content"
   ]
  },
  {
   "cell_type": "code",
   "execution_count": 3,
   "id": "b5f843e0",
   "metadata": {},
   "outputs": [],
   "source": [
    "imdbsoup = BeautifulSoup(imdbpage.content)"
   ]
  },
  {
   "cell_type": "markdown",
   "id": "f1b85128",
   "metadata": {},
   "source": [
    "Scraping Multiple Film Names"
   ]
  },
  {
   "cell_type": "code",
   "execution_count": 4,
   "id": "bcd247cc",
   "metadata": {},
   "outputs": [],
   "source": [
    "filmnames = []\n",
    "\n",
    "for i in imdbsoup.find_all('h3', class_=\"lister-item-header\"):\n",
    "    filmnames.append(i.text.replace(\"\\n\",\"\"))"
   ]
  },
  {
   "cell_type": "markdown",
   "id": "09dfd167",
   "metadata": {},
   "source": [
    "Scraping Multiple Ratings"
   ]
  },
  {
   "cell_type": "code",
   "execution_count": 5,
   "id": "2861cca3",
   "metadata": {},
   "outputs": [],
   "source": [
    "ratings = []\n",
    "\n",
    "for i in imdbsoup.find_all('div', class_=\"ipl-rating-star small\"):\n",
    "    ratings.append(i.text.replace(\"\\n\",\"\"))"
   ]
  },
  {
   "cell_type": "markdown",
   "id": "dcfa363c",
   "metadata": {},
   "source": [
    "Scraping Year of Release"
   ]
  },
  {
   "cell_type": "code",
   "execution_count": 6,
   "id": "e3a138bf",
   "metadata": {},
   "outputs": [],
   "source": [
    "releaseyear = []\n",
    "\n",
    "for i in imdbsoup.find_all('span', class_=\"lister-item-year text-muted unbold\"):\n",
    "    releaseyear.append(i.text)"
   ]
  },
  {
   "cell_type": "code",
   "execution_count": 7,
   "id": "4e4c2cfa",
   "metadata": {},
   "outputs": [
    {
     "name": "stdout",
     "output_type": "stream",
     "text": [
      "100 100 100\n"
     ]
    }
   ],
   "source": [
    "print(len(filmnames),len(ratings),len(releaseyear))"
   ]
  },
  {
   "cell_type": "markdown",
   "id": "1784d019",
   "metadata": {},
   "source": [
    "Making Data Frame"
   ]
  },
  {
   "cell_type": "code",
   "execution_count": 8,
   "id": "bd07c779",
   "metadata": {},
   "outputs": [
    {
     "data": {
      "text/html": [
       "<div>\n",
       "<style scoped>\n",
       "    .dataframe tbody tr th:only-of-type {\n",
       "        vertical-align: middle;\n",
       "    }\n",
       "\n",
       "    .dataframe tbody tr th {\n",
       "        vertical-align: top;\n",
       "    }\n",
       "\n",
       "    .dataframe thead th {\n",
       "        text-align: right;\n",
       "    }\n",
       "</style>\n",
       "<table border=\"1\" class=\"dataframe\">\n",
       "  <thead>\n",
       "    <tr style=\"text-align: right;\">\n",
       "      <th></th>\n",
       "      <th>Film Name</th>\n",
       "      <th>Rating</th>\n",
       "      <th>Year of Release</th>\n",
       "    </tr>\n",
       "  </thead>\n",
       "  <tbody>\n",
       "    <tr>\n",
       "      <th>0</th>\n",
       "      <td>1.Ship of Theseus(2012)</td>\n",
       "      <td>8</td>\n",
       "      <td>(2012)</td>\n",
       "    </tr>\n",
       "    <tr>\n",
       "      <th>1</th>\n",
       "      <td>2.Iruvar(1997)</td>\n",
       "      <td>8.4</td>\n",
       "      <td>(1997)</td>\n",
       "    </tr>\n",
       "    <tr>\n",
       "      <th>2</th>\n",
       "      <td>3.Kaagaz Ke Phool(1959)</td>\n",
       "      <td>7.8</td>\n",
       "      <td>(1959)</td>\n",
       "    </tr>\n",
       "    <tr>\n",
       "      <th>3</th>\n",
       "      <td>4.Lagaan: Once Upon a Time in India(2001)</td>\n",
       "      <td>8.1</td>\n",
       "      <td>(2001)</td>\n",
       "    </tr>\n",
       "    <tr>\n",
       "      <th>4</th>\n",
       "      <td>5.Pather Panchali(1955)</td>\n",
       "      <td>8.2</td>\n",
       "      <td>(1955)</td>\n",
       "    </tr>\n",
       "    <tr>\n",
       "      <th>...</th>\n",
       "      <td>...</td>\n",
       "      <td>...</td>\n",
       "      <td>...</td>\n",
       "    </tr>\n",
       "    <tr>\n",
       "      <th>95</th>\n",
       "      <td>96.Apur Sansar(1959)</td>\n",
       "      <td>8.4</td>\n",
       "      <td>(1959)</td>\n",
       "    </tr>\n",
       "    <tr>\n",
       "      <th>96</th>\n",
       "      <td>97.Kanchivaram(2008)</td>\n",
       "      <td>8.2</td>\n",
       "      <td>(2008)</td>\n",
       "    </tr>\n",
       "    <tr>\n",
       "      <th>97</th>\n",
       "      <td>98.Monsoon Wedding(2001)</td>\n",
       "      <td>7.3</td>\n",
       "      <td>(2001)</td>\n",
       "    </tr>\n",
       "    <tr>\n",
       "      <th>98</th>\n",
       "      <td>99.Black(2005)</td>\n",
       "      <td>8.1</td>\n",
       "      <td>(2005)</td>\n",
       "    </tr>\n",
       "    <tr>\n",
       "      <th>99</th>\n",
       "      <td>100.Deewaar(1975)</td>\n",
       "      <td>8</td>\n",
       "      <td>(1975)</td>\n",
       "    </tr>\n",
       "  </tbody>\n",
       "</table>\n",
       "<p>100 rows × 3 columns</p>\n",
       "</div>"
      ],
      "text/plain": [
       "                                    Film Name Rating Year of Release\n",
       "0                     1.Ship of Theseus(2012)      8          (2012)\n",
       "1                              2.Iruvar(1997)    8.4          (1997)\n",
       "2                     3.Kaagaz Ke Phool(1959)    7.8          (1959)\n",
       "3   4.Lagaan: Once Upon a Time in India(2001)    8.1          (2001)\n",
       "4                     5.Pather Panchali(1955)    8.2          (1955)\n",
       "..                                        ...    ...             ...\n",
       "95                       96.Apur Sansar(1959)    8.4          (1959)\n",
       "96                       97.Kanchivaram(2008)    8.2          (2008)\n",
       "97                   98.Monsoon Wedding(2001)    7.3          (2001)\n",
       "98                             99.Black(2005)    8.1          (2005)\n",
       "99                          100.Deewaar(1975)      8          (1975)\n",
       "\n",
       "[100 rows x 3 columns]"
      ]
     },
     "execution_count": 8,
     "metadata": {},
     "output_type": "execute_result"
    }
   ],
   "source": [
    "import pandas as pd\n",
    "dfimdb = pd.DataFrame({'Film Name':filmnames, 'Rating':ratings, 'Year of Release':releaseyear})\n",
    "dfimdb"
   ]
  },
  {
   "cell_type": "code",
   "execution_count": null,
   "id": "52ca140a",
   "metadata": {},
   "outputs": [],
   "source": []
  },
  {
   "cell_type": "markdown",
   "id": "d048c52f",
   "metadata": {},
   "source": [
    "Q2-Please visit https://www.keaipublishing.com/en/journals/artificial-intelligence-in-agriculture/most-downloaded-articles/ and scrap-\n",
    "\n",
    "a) Paper title\n",
    "\n",
    "b) date\n",
    "\n",
    "c) Author"
   ]
  },
  {
   "cell_type": "code",
   "execution_count": 42,
   "id": "05af6d8f",
   "metadata": {},
   "outputs": [],
   "source": [
    "from bs4 import BeautifulSoup\n",
    "import requests"
   ]
  },
  {
   "cell_type": "code",
   "execution_count": 9,
   "id": "7a3efb8d",
   "metadata": {},
   "outputs": [],
   "source": [
    "keaipage = requests.get(\"https://www.keaipublishing.com/en/journals/artificial-intelligence-in-agriculture/most-downloaded-articles/\")"
   ]
  },
  {
   "cell_type": "markdown",
   "id": "26b7f123",
   "metadata": {},
   "source": [
    "keai publishing journals Page Content"
   ]
  },
  {
   "cell_type": "code",
   "execution_count": 10,
   "id": "59e42e43",
   "metadata": {},
   "outputs": [],
   "source": [
    "keaisoup = BeautifulSoup(keaipage.content)"
   ]
  },
  {
   "cell_type": "markdown",
   "id": "003bb1cf",
   "metadata": {},
   "source": [
    "Scraping Paper Title"
   ]
  },
  {
   "cell_type": "code",
   "execution_count": 11,
   "id": "a0fa9a2b",
   "metadata": {},
   "outputs": [
    {
     "data": {
      "text/plain": [
       "'Implementation of artificial intelligence in agriculture for optimisation of irrigation and application of pesticides and herbicides'"
      ]
     },
     "execution_count": 11,
     "metadata": {},
     "output_type": "execute_result"
    }
   ],
   "source": [
    "keaititle = keaisoup.find('h2', class_=\"h5 article-title\")\n",
    "\n",
    "removespace = keaititle.text.replace(\"  \",\"\")\n",
    "\n",
    "removen = removespace.replace(\"\\n\",\"\")\n",
    "\n",
    "keaipapertitle = removen.replace(\"\\r\",\"\")\n",
    "\n",
    "keaipapertitle"
   ]
  },
  {
   "cell_type": "markdown",
   "id": "7a773385",
   "metadata": {},
   "source": [
    "Scraping Date"
   ]
  },
  {
   "cell_type": "code",
   "execution_count": 12,
   "id": "14af35b1",
   "metadata": {},
   "outputs": [
    {
     "data": {
      "text/plain": [
       "'2020'"
      ]
     },
     "execution_count": 12,
     "metadata": {},
     "output_type": "execute_result"
    }
   ],
   "source": [
    "keaidate = keaisoup.find('p', class_=\"article-date\")\n",
    "\n",
    "keaidate.text"
   ]
  },
  {
   "cell_type": "markdown",
   "id": "7ac40266",
   "metadata": {},
   "source": [
    "Scraping Author"
   ]
  },
  {
   "cell_type": "code",
   "execution_count": 13,
   "id": "b0a1db91",
   "metadata": {},
   "outputs": [
    {
     "data": {
      "text/plain": [
       "' Tanha Talaviya |  Dhara Shah |  Nivedita Patel |  Hiteshri Yagnik |  Manan Shah'"
      ]
     },
     "execution_count": 13,
     "metadata": {},
     "output_type": "execute_result"
    }
   ],
   "source": [
    "keaiauthor = keaisoup.find('p', class_=\"article-authors\")\n",
    "\n",
    "keaiauthor.text"
   ]
  },
  {
   "cell_type": "code",
   "execution_count": null,
   "id": "685749a4",
   "metadata": {},
   "outputs": [],
   "source": []
  },
  {
   "cell_type": "markdown",
   "id": "0e00f870",
   "metadata": {},
   "source": [
    "Q3-Please visit https://www.cnbc.com/world/?region=world and scrap-\n",
    "\n",
    "a) headings\n",
    "\n",
    "b) date\n",
    "\n",
    "c) News link\n"
   ]
  },
  {
   "cell_type": "code",
   "execution_count": 21,
   "id": "e9a5a075",
   "metadata": {},
   "outputs": [],
   "source": [
    "from bs4 import BeautifulSoup\n",
    "import requests"
   ]
  },
  {
   "cell_type": "code",
   "execution_count": 43,
   "id": "986770a4",
   "metadata": {},
   "outputs": [],
   "source": [
    "cnbcpage = requests.get(\"https://www.cnbc.com/world/?region=world\")"
   ]
  },
  {
   "cell_type": "markdown",
   "id": "38749a22",
   "metadata": {},
   "source": [
    "cnbc page content"
   ]
  },
  {
   "cell_type": "code",
   "execution_count": 44,
   "id": "7d2bb407",
   "metadata": {},
   "outputs": [],
   "source": [
    "cnbcsoup = BeautifulSoup(cnbcpage.content)"
   ]
  },
  {
   "cell_type": "markdown",
   "id": "9323882a",
   "metadata": {},
   "source": [
    "Scraping News Headings"
   ]
  },
  {
   "cell_type": "code",
   "execution_count": 25,
   "id": "fb1aa8d4",
   "metadata": {},
   "outputs": [
    {
     "data": {
      "text/plain": [
       "'Iran holds first elections since Mahsa Amini protests, with low turnout and boycott expected'"
      ]
     },
     "execution_count": 25,
     "metadata": {},
     "output_type": "execute_result"
    }
   ],
   "source": [
    "cnbcheading = cnbcsoup.find('div', class_=\"RiverHeadline-headline RiverHeadline-hasThumbnail\")\n",
    "\n",
    "cnbcheading.text"
   ]
  },
  {
   "cell_type": "markdown",
   "id": "0cdbd550",
   "metadata": {},
   "source": [
    "Scraping News Date"
   ]
  },
  {
   "cell_type": "code",
   "execution_count": 27,
   "id": "f477304e",
   "metadata": {},
   "outputs": [
    {
     "data": {
      "text/plain": [
       "'2 hours ago'"
      ]
     },
     "execution_count": 27,
     "metadata": {},
     "output_type": "execute_result"
    }
   ],
   "source": [
    "cnbcnewsdate = cnbcsoup.find('span', class_=\"RiverByline-datePublished\")\n",
    "\n",
    "cnbcnewsdate.text"
   ]
  },
  {
   "cell_type": "markdown",
   "id": "cfc6eea7",
   "metadata": {},
   "source": [
    "Scraping News Link"
   ]
  },
  {
   "cell_type": "code",
   "execution_count": 41,
   "id": "fc93b84a",
   "metadata": {},
   "outputs": [
    {
     "data": {
      "text/plain": [
       "'https://www.cnbc.com/2024/03/01/iran-elections-low-turnout-and-boycott-expected.html'"
      ]
     },
     "execution_count": 41,
     "metadata": {},
     "output_type": "execute_result"
    }
   ],
   "source": [
    "cnbcnewslink = cnbcsoup.find('div', class_=\"RiverHeadline-headline RiverHeadline-hasThumbnail\")\n",
    "\n",
    "cnbcnewslink.find('a').get(\"href\")"
   ]
  },
  {
   "cell_type": "code",
   "execution_count": null,
   "id": "1a32f320",
   "metadata": {},
   "outputs": [],
   "source": []
  },
  {
   "cell_type": "markdown",
   "id": "c9f088dd",
   "metadata": {},
   "source": [
    "Q4) Write a python program to scrape product name, price and discounts from https://www.meesho.com/bags-ladies/pl/3jo?page=1"
   ]
  },
  {
   "cell_type": "code",
   "execution_count": 42,
   "id": "c731d329",
   "metadata": {},
   "outputs": [],
   "source": [
    "from bs4 import BeautifulSoup\n",
    "import requests"
   ]
  },
  {
   "cell_type": "code",
   "execution_count": 45,
   "id": "7f4c50e0",
   "metadata": {},
   "outputs": [
    {
     "data": {
      "text/plain": [
       "<Response [403]>"
      ]
     },
     "execution_count": 45,
     "metadata": {},
     "output_type": "execute_result"
    }
   ],
   "source": [
    "meeshopage = requests.get(\"https://www.meesho.com/bags-ladies/pl/3jo?page=1\")\n",
    "\n",
    "meeshopage"
   ]
  },
  {
   "cell_type": "code",
   "execution_count": null,
   "id": "7daff6c8",
   "metadata": {},
   "outputs": [],
   "source": []
  },
  {
   "cell_type": "markdown",
   "id": "755d3b54",
   "metadata": {},
   "source": [
    "Q5) Write a python program to scrape cricket rankings from icc-cricket.com. You have to scrape:\n",
    "    \n",
    "a) Top 10 ODI teams in men’s cricket along with the records for matches, points and rating.\n",
    "\n",
    "b) Top 10 ODI Batsmen along with the records of their team and rating.\n",
    "\n",
    "c) Top 10 ODI bowlers along with the records of their team and rating."
   ]
  },
  {
   "cell_type": "code",
   "execution_count": 33,
   "id": "07ebac8c",
   "metadata": {},
   "outputs": [],
   "source": [
    "from bs4 import BeautifulSoup\n",
    "import requests"
   ]
  },
  {
   "cell_type": "code",
   "execution_count": 34,
   "id": "3a1c4961",
   "metadata": {},
   "outputs": [],
   "source": [
    "iccoditeamspage = requests.get(\"https://www.icc-cricket.com/rankings/team-rankings/mens/odi\")"
   ]
  },
  {
   "cell_type": "code",
   "execution_count": 35,
   "id": "6a1531de",
   "metadata": {},
   "outputs": [],
   "source": [
    "iccoditeamssoup = BeautifulSoup(iccoditeamspage.content)"
   ]
  },
  {
   "cell_type": "markdown",
   "id": "63fad476",
   "metadata": {},
   "source": [
    "Scraping ICC ODI Teams Ranking table"
   ]
  },
  {
   "cell_type": "code",
   "execution_count": 37,
   "id": "3420765d",
   "metadata": {},
   "outputs": [],
   "source": [
    "iccoditeamsrank = iccoditeamssoup.find('div', class_=\"si-table-row\")\n",
    "\n",
    "iccoditeamsrank"
   ]
  },
  {
   "cell_type": "code",
   "execution_count": null,
   "id": "498505d6",
   "metadata": {},
   "outputs": [],
   "source": []
  },
  {
   "cell_type": "markdown",
   "id": "8db9aa8d",
   "metadata": {},
   "source": [
    "Q6) Write a python program to scrape details of all the posts from https://www.patreon.com/coreyms .Scrape the heading, date, content and the likes for the video from the link for the youtube video from the post."
   ]
  },
  {
   "cell_type": "code",
   "execution_count": null,
   "id": "87bdbe99",
   "metadata": {},
   "outputs": [],
   "source": []
  },
  {
   "cell_type": "markdown",
   "id": "e8b18b92",
   "metadata": {},
   "source": [
    "Q7) Write a python program to scrape house details from mentioned URL. It should include house title, location, area, EMI and price from https://www.nobroker.in/ .Enter three localities which are Indira Nagar, Jayanagar, Rajaji Nagar."
   ]
  },
  {
   "cell_type": "code",
   "execution_count": 1,
   "id": "314418d4",
   "metadata": {},
   "outputs": [],
   "source": [
    "from bs4 import BeautifulSoup\n",
    "import requests"
   ]
  },
  {
   "cell_type": "markdown",
   "id": "5e51bc6b",
   "metadata": {},
   "source": [
    "# Locality - Indiranagar"
   ]
  },
  {
   "cell_type": "code",
   "execution_count": 49,
   "id": "ad08f583",
   "metadata": {},
   "outputs": [],
   "source": [
    "nobrokerindiranagarpage = requests.get(\"https://www.nobroker.in/property/sale/bangalore/Indiranagar?searchParam=W3sibGF0IjoxMi45NzgzNjkyLCJsb24iOjc3LjY0MDgzNTYsInBsYWNlSWQiOiJDaElKa1FOM0dLUVdyanNSTmhCUUpyaEdEN1UiLCJwbGFjZU5hbWUiOiJJbmRpcmFuYWdhciJ9XQ==&radius=2.0&city=bangalore&locality=Indiranagar\")"
   ]
  },
  {
   "cell_type": "code",
   "execution_count": 11,
   "id": "99f2a3c2",
   "metadata": {},
   "outputs": [],
   "source": [
    "indiranagarsoup = BeautifulSoup(nobrokerindiranagarpage.content)"
   ]
  },
  {
   "cell_type": "markdown",
   "id": "0797335a",
   "metadata": {},
   "source": [
    "House Title - Indiranagar"
   ]
  },
  {
   "cell_type": "code",
   "execution_count": 12,
   "id": "e9550cdb",
   "metadata": {},
   "outputs": [
    {
     "data": {
      "text/plain": [
       "'2 BHK Apartment In Gopalan Admirality Court, Indiranagar For Sale  In Indiranagar'"
      ]
     },
     "execution_count": 12,
     "metadata": {},
     "output_type": "execute_result"
    }
   ],
   "source": [
    "indiranagarhousetitle = indiranagarsoup.find('h2', class_=\"heading-6 flex items-center font-semi-bold m-0\")\n",
    "\n",
    "indiranagarhousetitle.text"
   ]
  },
  {
   "cell_type": "markdown",
   "id": "6e4128ad",
   "metadata": {},
   "source": [
    "House Location - Indiranagar"
   ]
  },
  {
   "cell_type": "code",
   "execution_count": 13,
   "id": "72b5c6f0",
   "metadata": {},
   "outputs": [
    {
     "data": {
      "text/plain": [
       "'Gopalan Admirality Court, Indiranagar\\xa0  6th Main Rd, Eshwara Layout, Indiranagar, Bengaluru, Karnataka 560038, India'"
      ]
     },
     "execution_count": 13,
     "metadata": {},
     "output_type": "execute_result"
    }
   ],
   "source": [
    "indiranagarhouselocation = indiranagarsoup.find('div', class_=\"mt-0.5p overflow-hidden overflow-ellipsis whitespace-nowrap max-w-70 text-gray-light leading-4 po:mb-0.1p po:max-w-95\")\n",
    "\n",
    "indiranagarhouselocation.text"
   ]
  },
  {
   "cell_type": "markdown",
   "id": "31180292",
   "metadata": {},
   "source": [
    "House Builtup Area - Indiranagar"
   ]
  },
  {
   "cell_type": "code",
   "execution_count": 46,
   "id": "6f4a6eff",
   "metadata": {},
   "outputs": [
    {
     "data": {
      "text/plain": [
       "'1,360 sqft'"
      ]
     },
     "execution_count": 46,
     "metadata": {},
     "output_type": "execute_result"
    }
   ],
   "source": [
    "indiranagarhousearea = indiranagarsoup.find('div', id=\"unitCode\")\n",
    "\n",
    "indiranagarhousearea.text"
   ]
  },
  {
   "cell_type": "markdown",
   "id": "3b4d5802",
   "metadata": {},
   "source": [
    "House EMI - Indiranagar"
   ]
  },
  {
   "cell_type": "code",
   "execution_count": 45,
   "id": "4134a84e",
   "metadata": {},
   "outputs": [
    {
     "data": {
      "text/plain": [
       "'₹1.03 Lacs/Month'"
      ]
     },
     "execution_count": 45,
     "metadata": {},
     "output_type": "execute_result"
    }
   ],
   "source": [
    "indiranagarhouseemi = indiranagarsoup.find('div', id=\"roomType\")\n",
    "\n",
    "indiranagarhouseemi.text"
   ]
  },
  {
   "cell_type": "markdown",
   "id": "40884832",
   "metadata": {},
   "source": [
    "House Price - Indiranagar"
   ]
  },
  {
   "cell_type": "code",
   "execution_count": 31,
   "id": "dcf525bd",
   "metadata": {},
   "outputs": [
    {
     "data": {
      "text/plain": [
       "'₹1.8 Crores -> ₹13,235 per sq.ft.'"
      ]
     },
     "execution_count": 31,
     "metadata": {},
     "output_type": "execute_result"
    }
   ],
   "source": [
    "indiranagarhouseprice = indiranagarsoup.find('div', class_=\"flex flex-col w-33pe items-center bo tp:w-half po:w-full border-r border-r-solid border-card-overview-border-color last:border-r-1\")\n",
    "\n",
    "indiranagarhouseprice.text.replace('es', 'es -> ')"
   ]
  },
  {
   "cell_type": "markdown",
   "id": "7e52ea59",
   "metadata": {},
   "source": [
    "# Locality - Jayanagar"
   ]
  },
  {
   "cell_type": "code",
   "execution_count": 48,
   "id": "ed368093",
   "metadata": {},
   "outputs": [],
   "source": [
    "nobrokerjayanagarpage = requests.get(\"https://www.nobroker.in/property/sale/bangalore/Jayanagar?searchParam=W3sibGF0IjoxMi45MzA3NzM1LCJsb24iOjc3LjU4MzgzMDIsInBsYWNlSWQiOiJDaElKMmRkbFo1Z1ZyanNSaDFCT0FhZi1vcnMiLCJwbGFjZU5hbWUiOiJKYXlhbmFnYXIiLCJzaG93TWFwIjpmYWxzZX1d&radius=2.0&city=bangalore&locality=Indiranagar&isMetro=false\")"
   ]
  },
  {
   "cell_type": "code",
   "execution_count": 51,
   "id": "d34cb399",
   "metadata": {},
   "outputs": [],
   "source": [
    "jayanagarsoup = BeautifulSoup(nobrokerjayanagarpage.content)"
   ]
  },
  {
   "cell_type": "markdown",
   "id": "ac903b39",
   "metadata": {},
   "source": [
    "House Title - Jayanagar"
   ]
  },
  {
   "cell_type": "code",
   "execution_count": 53,
   "id": "7e6560af",
   "metadata": {},
   "outputs": [
    {
     "data": {
      "text/plain": [
       "'2 BHK Flat In Pallava Terrace Apartments For Sale  In Jayanagar'"
      ]
     },
     "execution_count": 53,
     "metadata": {},
     "output_type": "execute_result"
    }
   ],
   "source": [
    "jayanagarhousetitle = jayanagarsoup.find('h2', class_=\"heading-6 flex items-center font-semi-bold m-0\")\n",
    "\n",
    "jayanagarhousetitle.text"
   ]
  },
  {
   "cell_type": "markdown",
   "id": "14aa6b7a",
   "metadata": {},
   "source": [
    "House Location - Jayanagar"
   ]
  },
  {
   "cell_type": "code",
   "execution_count": 54,
   "id": "8224271d",
   "metadata": {},
   "outputs": [
    {
     "data": {
      "text/plain": [
       "'Pallava Terrace Apartments, North Main Road, opp. Yediyur Lake, Yediyur, Jayanagar, Bengaluru, Karnataka, India'"
      ]
     },
     "execution_count": 54,
     "metadata": {},
     "output_type": "execute_result"
    }
   ],
   "source": [
    "jayanagarhouselocation = jayanagarsoup.find('div', class_=\"mt-0.5p overflow-hidden overflow-ellipsis whitespace-nowrap max-w-70 text-gray-light leading-4 po:mb-0.1p po:max-w-95\")\n",
    "\n",
    "jayanagarhouselocation.text"
   ]
  },
  {
   "cell_type": "markdown",
   "id": "be6334c4",
   "metadata": {},
   "source": [
    "House Builtup Area - Jayanagar"
   ]
  },
  {
   "cell_type": "code",
   "execution_count": 55,
   "id": "77c244a5",
   "metadata": {},
   "outputs": [
    {
     "data": {
      "text/plain": [
       "'1,050 sqft'"
      ]
     },
     "execution_count": 55,
     "metadata": {},
     "output_type": "execute_result"
    }
   ],
   "source": [
    "jayanagarhousearea = jayanagarsoup.find('div', id=\"unitCode\")\n",
    "\n",
    "jayanagarhousearea.text"
   ]
  },
  {
   "cell_type": "markdown",
   "id": "cabd1ec3",
   "metadata": {},
   "source": [
    "House EMI - Jayanagar"
   ]
  },
  {
   "cell_type": "code",
   "execution_count": 56,
   "id": "83d2d222",
   "metadata": {},
   "outputs": [
    {
     "data": {
      "text/plain": [
       "'₹57,314/Month'"
      ]
     },
     "execution_count": 56,
     "metadata": {},
     "output_type": "execute_result"
    }
   ],
   "source": [
    "jayanagarhouseemi = jayanagarsoup.find('div', id=\"roomType\")\n",
    "\n",
    "jayanagarhouseemi.text"
   ]
  },
  {
   "cell_type": "markdown",
   "id": "86e13fa0",
   "metadata": {},
   "source": [
    "House Price - Jayanagar"
   ]
  },
  {
   "cell_type": "code",
   "execution_count": 58,
   "id": "93b30e82",
   "metadata": {},
   "outputs": [
    {
     "data": {
      "text/plain": [
       "'₹1 Crore -> ₹9,524 per sq.ft.'"
      ]
     },
     "execution_count": 58,
     "metadata": {},
     "output_type": "execute_result"
    }
   ],
   "source": [
    "jayanagarhouseprice = jayanagarsoup.find('div', class_=\"flex flex-col w-33pe items-center bo tp:w-half po:w-full border-r border-r-solid border-card-overview-border-color last:border-r-1\")\n",
    "\n",
    "jayanagarhouseprice.text.replace('re', 're -> ')"
   ]
  },
  {
   "cell_type": "markdown",
   "id": "857a3777",
   "metadata": {},
   "source": [
    "# Locality - Rajajinagar"
   ]
  },
  {
   "cell_type": "code",
   "execution_count": 59,
   "id": "ffb82b68",
   "metadata": {},
   "outputs": [],
   "source": [
    "nobrokerrajajinagarpage = requests.get(\"https://www.nobroker.in/property/sale/bangalore/Rajajinagar?searchParam=W3sibGF0IjoxMi45OTgxNzMyLCJsb24iOjc3LjU1MzA0NDU5OTk5OTk5LCJwbGFjZUlkIjoiQ2hJSnhmVzREUE05cmpzUktzTlRHLTVwX1FRIiwicGxhY2VOYW1lIjoiUmFqYWppbmFnYXIiLCJzaG93TWFwIjpmYWxzZX1d&radius=2.0&city=bangalore&locality=Indiranagar&isMetro=false\")"
   ]
  },
  {
   "cell_type": "code",
   "execution_count": 60,
   "id": "2294b558",
   "metadata": {},
   "outputs": [],
   "source": [
    "rajajinagarsoup = BeautifulSoup(nobrokerrajajinagarpage.content)"
   ]
  },
  {
   "cell_type": "markdown",
   "id": "3a2f5e20",
   "metadata": {},
   "source": [
    "House Title - Rajajinagar"
   ]
  },
  {
   "cell_type": "code",
   "execution_count": 61,
   "id": "cc106a65",
   "metadata": {},
   "outputs": [
    {
     "data": {
      "text/plain": [
       "'3 BHK Apartment In Brigade Gateway For Sale  In Rajaji Nagar'"
      ]
     },
     "execution_count": 61,
     "metadata": {},
     "output_type": "execute_result"
    }
   ],
   "source": [
    "rajajinagarhousetitle = rajajinagarsoup.find('h2', class_=\"heading-6 flex items-center font-semi-bold m-0\")\n",
    "\n",
    "rajajinagarhousetitle.text"
   ]
  },
  {
   "cell_type": "markdown",
   "id": "1a3a40e4",
   "metadata": {},
   "source": [
    "House Location - Rajajinagar"
   ]
  },
  {
   "cell_type": "code",
   "execution_count": 62,
   "id": "7a28fed5",
   "metadata": {},
   "outputs": [
    {
     "data": {
      "text/plain": [
       "'Brigade Gateway\\xa0 Dr Rajkumar Road, Rajaji Nagar, Bengaluru, Karnataka 560055, India'"
      ]
     },
     "execution_count": 62,
     "metadata": {},
     "output_type": "execute_result"
    }
   ],
   "source": [
    "rajajinagarhouselocation = rajajinagarsoup.find('div', class_=\"mt-0.5p overflow-hidden overflow-ellipsis whitespace-nowrap max-w-70 text-gray-light leading-4 po:mb-0.1p po:max-w-95\")\n",
    "\n",
    "rajajinagarhouselocation.text"
   ]
  },
  {
   "cell_type": "markdown",
   "id": "6612563c",
   "metadata": {},
   "source": [
    "House Builtup Area - Rajajinagar"
   ]
  },
  {
   "cell_type": "code",
   "execution_count": 64,
   "id": "8ebde343",
   "metadata": {},
   "outputs": [
    {
     "data": {
      "text/plain": [
       "'3,150 sqft'"
      ]
     },
     "execution_count": 64,
     "metadata": {},
     "output_type": "execute_result"
    }
   ],
   "source": [
    "rajajinagarhousearea = rajajinagarsoup.find('div', id=\"unitCode\")\n",
    "\n",
    "rajajinagarhousearea.text"
   ]
  },
  {
   "cell_type": "markdown",
   "id": "e19346dd",
   "metadata": {},
   "source": [
    "House EMI - Rajajinagar"
   ]
  },
  {
   "cell_type": "code",
   "execution_count": 65,
   "id": "ff326391",
   "metadata": {},
   "outputs": [
    {
     "data": {
      "text/plain": [
       "'₹4.3 Lacs/Month'"
      ]
     },
     "execution_count": 65,
     "metadata": {},
     "output_type": "execute_result"
    }
   ],
   "source": [
    "rajajinagarhouseemi = rajajinagarsoup.find('div', id=\"roomType\")\n",
    "\n",
    "rajajinagarhouseemi.text"
   ]
  },
  {
   "cell_type": "markdown",
   "id": "3fcbd667",
   "metadata": {},
   "source": [
    "House Price - Rajajinagar"
   ]
  },
  {
   "cell_type": "code",
   "execution_count": 68,
   "id": "f6c5babf",
   "metadata": {},
   "outputs": [
    {
     "data": {
      "text/plain": [
       "'₹7.5 Crores -> ₹23,810 per sq.ft.'"
      ]
     },
     "execution_count": 68,
     "metadata": {},
     "output_type": "execute_result"
    }
   ],
   "source": [
    "rajajinagarhouseprice = rajajinagarsoup.find('div', class_=\"flex flex-col w-33pe items-center bo tp:w-half po:w-full border-r border-r-solid border-card-overview-border-color last:border-r-1\")\n",
    "\n",
    "rajajinagarhouseprice.text.replace('es', 'es -> ')"
   ]
  },
  {
   "cell_type": "code",
   "execution_count": null,
   "id": "135a1bf5",
   "metadata": {},
   "outputs": [],
   "source": []
  },
  {
   "cell_type": "markdown",
   "id": "64132df1",
   "metadata": {},
   "source": [
    "Q8) Write a python program to scrape first 10 product details which include product name , price , Image URL from https://www.bewakoof.com/bestseller?sort=popular ."
   ]
  },
  {
   "cell_type": "code",
   "execution_count": 70,
   "id": "5abef240",
   "metadata": {},
   "outputs": [],
   "source": [
    "from bs4 import BeautifulSoup\n",
    "import requests"
   ]
  },
  {
   "cell_type": "code",
   "execution_count": 72,
   "id": "a7b3111f",
   "metadata": {},
   "outputs": [],
   "source": [
    "bewakoofpage = requests.get(\"https://www.bewakoof.com/bestseller?sort=popular\")"
   ]
  },
  {
   "cell_type": "code",
   "execution_count": 74,
   "id": "ad82fb33",
   "metadata": {},
   "outputs": [],
   "source": [
    "bewakoofsoup = BeautifulSoup(bewakoofpage.content)"
   ]
  },
  {
   "cell_type": "markdown",
   "id": "ab37df91",
   "metadata": {},
   "source": [
    "Bewakoof Product Name List"
   ]
  },
  {
   "cell_type": "code",
   "execution_count": 76,
   "id": "18ef729f",
   "metadata": {},
   "outputs": [
    {
     "data": {
      "text/plain": [
       "[\"bewakoof x looney tunesWomen's Blue Round in Bugs Graphic Printed Oversized Short Top\",\n",
       " \"Bewakoof®Men's Blue Rider Vroom Panda Graphic Printed T-shirt\",\n",
       " \"Bewakoof®Men's Jet Black Vest\",\n",
       " \"bewakoof x dcMen's Black Batman Outline Logo T-shirt\",\n",
       " \"bewakoof x marvelMen's White Marvel Printed T-shirt\",\n",
       " \"Bewakoof®Men's Black T-shirt\",\n",
       " \"Bewakoof®Men's White T-shirt\",\n",
       " \"Bewakoof®Women's Black Boyfriend T-shirt\",\n",
       " \"bewakoof x friendsMen's Black Friends Logo T-shirt\",\n",
       " \"Bewakoof®Women's Red Boyfriend T-shirt\"]"
      ]
     },
     "execution_count": 76,
     "metadata": {},
     "output_type": "execute_result"
    }
   ],
   "source": [
    "bewakoofproductname = []\n",
    "\n",
    "for i in bewakoofsoup.find_all('div', class_=\"productNaming bkf-ellipsis\"):\n",
    "    bewakoofproductname.append(i.text)\n",
    "    \n",
    "bewakoofproductname"
   ]
  },
  {
   "cell_type": "markdown",
   "id": "172101f7",
   "metadata": {},
   "source": [
    "Bewakoof Product Price List"
   ]
  },
  {
   "cell_type": "code",
   "execution_count": 80,
   "id": "d12f4813",
   "metadata": {},
   "outputs": [
    {
     "data": {
      "text/plain": [
       "['₹487',\n",
       " '₹444',\n",
       " '₹384',\n",
       " '₹399',\n",
       " '₹399',\n",
       " '₹499',\n",
       " '₹449',\n",
       " '₹399',\n",
       " '₹339',\n",
       " '₹349']"
      ]
     },
     "execution_count": 80,
     "metadata": {},
     "output_type": "execute_result"
    }
   ],
   "source": [
    "bewakoofproductprice = []\n",
    "\n",
    "for i in bewakoofsoup.find_all('div', class_=\"discountedPriceText clr-p-black false\"):\n",
    "    bewakoofproductprice.append(i.text)\n",
    "    \n",
    "bewakoofproductprice"
   ]
  },
  {
   "cell_type": "markdown",
   "id": "80bdd3cf",
   "metadata": {},
   "source": [
    "Bewakoof Product Image URLs"
   ]
  },
  {
   "cell_type": "code",
   "execution_count": 82,
   "id": "ea4f4474",
   "metadata": {},
   "outputs": [
    {
     "data": {
      "text/plain": [
       "['https://images.bewakoof.com/t640/women-s-blue-round-in-bugs-graphic-printed-oversized-short-top-589789-1707221362-1.jpg',\n",
       " 'https://images.bewakoof.com/t640/men-s-blue-rider-vroom-panda-graphic-printed-t-shirt-387282-1705996206-1.jpg',\n",
       " 'https://images.bewakoof.com/t640/jet-black-vest-210687-1659522825-1.jpg',\n",
       " 'https://images.bewakoof.com/t640/men-s-black-batman-outline-logo-t-shirt-283889-1701423873-1.jpg',\n",
       " 'https://images.bewakoof.com/t640/men-s-white-marvel-printed-t-shirt-390747-1705996158-1.jpg',\n",
       " 'https://images.bewakoof.com/t640/men-s-black-t-shirt-106-1701423878-1.jpg',\n",
       " 'https://images.bewakoof.com/t640/men-s-white-t-shirt-105-1702967985-1.jpg',\n",
       " 'https://images.bewakoof.com/t640/women-s-black-boyfriend-t-shirt-103943-1655747735-1.jpg',\n",
       " 'https://images.bewakoof.com/t640/men-s-black-friends-logo-t-shirt-234662-1709214838-1.jpg',\n",
       " 'https://images.bewakoof.com/t640/women-s-red-boyfriend-t-shirt-170465-1658918677-1.jpg']"
      ]
     },
     "execution_count": 82,
     "metadata": {},
     "output_type": "execute_result"
    }
   ],
   "source": [
    "bewakoofproductimages = []\n",
    "\n",
    "for i in bewakoofsoup.find_all(\"img\", class_='productImgTag'):\n",
    "    bewakoofproductimages.append(i['src'])\n",
    "\n",
    "bewakoofproductimages"
   ]
  },
  {
   "cell_type": "code",
   "execution_count": 83,
   "id": "c32d7c8d",
   "metadata": {},
   "outputs": [
    {
     "name": "stdout",
     "output_type": "stream",
     "text": [
      "10 10 10\n"
     ]
    }
   ],
   "source": [
    "print(len(bewakoofproductname), len(bewakoofproductprice), len(bewakoofproductimages))"
   ]
  }
 ],
 "metadata": {
  "kernelspec": {
   "display_name": "Python 3 (ipykernel)",
   "language": "python",
   "name": "python3"
  },
  "language_info": {
   "codemirror_mode": {
    "name": "ipython",
    "version": 3
   },
   "file_extension": ".py",
   "mimetype": "text/x-python",
   "name": "python",
   "nbconvert_exporter": "python",
   "pygments_lexer": "ipython3",
   "version": "3.11.7"
  }
 },
 "nbformat": 4,
 "nbformat_minor": 5
}
