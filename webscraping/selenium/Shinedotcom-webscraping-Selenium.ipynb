{
 "cells": [
  {
   "cell_type": "code",
   "execution_count": 9,
   "id": "b4a55ba4",
   "metadata": {},
   "outputs": [],
   "source": [
    "#importing Selenium, pandas, selenium webdriver, warnings, and time\n",
    "import selenium\n",
    "import pandas as pd\n",
    "from selenium import webdriver\n",
    "import warnings\n",
    "warnings.filterwarnings('ignore')\n",
    "from selenium.webdriver.common.by import By\n",
    "import time"
   ]
  },
  {
   "cell_type": "code",
   "execution_count": 10,
   "id": "6f7ceeea",
   "metadata": {},
   "outputs": [],
   "source": [
    "driver = webdriver.Chrome() #opening chrome browser using selenium driver"
   ]
  },
  {
   "cell_type": "code",
   "execution_count": 11,
   "id": "1083f3d7",
   "metadata": {},
   "outputs": [],
   "source": [
    "driver.get('https://www.shine.com/') #opening the webpage www.shine.com on automated chrome browser"
   ]
  },
  {
   "cell_type": "code",
   "execution_count": 13,
   "id": "1ca88669",
   "metadata": {},
   "outputs": [],
   "source": [
    "#Enter “Data Analyst” in “Job title, Skills” field\n",
    "designation = driver.find_element(By.CLASS_NAME,\"form-control  \")\n",
    "designation.send_keys('Data Analyst')"
   ]
  },
  {
   "cell_type": "code",
   "execution_count": 14,
   "id": "2ed0987b",
   "metadata": {},
   "outputs": [],
   "source": [
    "#and enter “Bangalore” in “enter the location” field\n",
    "location = driver.find_element(By.XPATH,\"/html/body/div/div[4]/div/div[2]/div[2]/div/form/div/div[1]/ul/li[2]/div/input\")\n",
    "location.send_keys('Bangalore')"
   ]
  },
  {
   "cell_type": "code",
   "execution_count": 15,
   "id": "fcef7acc",
   "metadata": {},
   "outputs": [],
   "source": [
    "#click the searchbutton\n",
    "search = driver.find_element(By.XPATH,\"/html/body/div/div[4]/div/div[2]/div[2]/div/form/div/div[2]/div/button\")\n",
    "search.click()"
   ]
  },
  {
   "cell_type": "code",
   "execution_count": 17,
   "id": "295233bc",
   "metadata": {},
   "outputs": [],
   "source": [
    "#Declare lists\n",
    "job_title = []\n",
    "job_location = []\n",
    "company_name = []\n",
    "experience_required = []"
   ]
  },
  {
   "cell_type": "code",
   "execution_count": 18,
   "id": "4e1be9b6",
   "metadata": {},
   "outputs": [],
   "source": [
    "start = 0\n",
    "end = 10\n",
    "\n",
    "for title_tags in range(start,end):\n",
    "    title_tags = driver.find_elements(By.XPATH, '//h2[@itemprop=\"name\"]')\n",
    "    for i in title_tags:\n",
    "        title = i.text\n",
    "        job_title.append(title)\n",
    "    \n",
    "for title_tags in range(start,end):\n",
    "    location_tags = driver.find_elements(By.XPATH,'//div[@class=\" jobCard_jobCard_lists_item__YxRkV jobCard_locationIcon__zrWt2\"]')\n",
    "    for i in location_tags:\n",
    "        location = i.text\n",
    "        job_location.append(location)\n",
    "    \n",
    "for company_tags in range(start,end):\n",
    "    company_tags = driver.find_elements(By.XPATH,'//div[@class=\"jobCard_jobCard_cName__mYnow\"]/span')\n",
    "    for i in company_tags:\n",
    "        company = i.text\n",
    "        company_name.append(company)\n",
    "    \n",
    "for experience_tags in range(start,end):\n",
    "    experience_tags = driver.find_elements(By.XPATH,'//div[@class=\" jobCard_jobCard_lists_item__YxRkV jobCard_jobIcon__3FB1t\"]')\n",
    "    for i in experience_tags:\n",
    "        experience = i.text\n",
    "        experience_required.append(experience)"
   ]
  },
  {
   "cell_type": "code",
   "execution_count": 19,
   "id": "6a3c45c4",
   "metadata": {},
   "outputs": [
    {
     "name": "stdout",
     "output_type": "stream",
     "text": [
      "200 200 200 200\n"
     ]
    }
   ],
   "source": [
    "print(len(job_title), len(job_location), len(company_name), len(experience_required))"
   ]
  },
  {
   "cell_type": "code",
   "execution_count": 20,
   "id": "5f1737f6",
   "metadata": {},
   "outputs": [
    {
     "name": "stdout",
     "output_type": "stream",
     "text": [
      "10 10 10 10\n"
     ]
    }
   ],
   "source": [
    "print(len(job_title[0:10]), len(job_location[0:10]), len(company_name[0:10]), len(experience_required[0:10]))"
   ]
  },
  {
   "cell_type": "code",
   "execution_count": 21,
   "id": "0cf87ab5",
   "metadata": {},
   "outputs": [
    {
     "data": {
      "text/html": [
       "<div>\n",
       "<style scoped>\n",
       "    .dataframe tbody tr th:only-of-type {\n",
       "        vertical-align: middle;\n",
       "    }\n",
       "\n",
       "    .dataframe tbody tr th {\n",
       "        vertical-align: top;\n",
       "    }\n",
       "\n",
       "    .dataframe thead th {\n",
       "        text-align: right;\n",
       "    }\n",
       "</style>\n",
       "<table border=\"1\" class=\"dataframe\">\n",
       "  <thead>\n",
       "    <tr style=\"text-align: right;\">\n",
       "      <th></th>\n",
       "      <th>Title</th>\n",
       "      <th>Location</th>\n",
       "      <th>Company Name</th>\n",
       "      <th>Exprience Required</th>\n",
       "    </tr>\n",
       "  </thead>\n",
       "  <tbody>\n",
       "    <tr>\n",
       "      <th>0</th>\n",
       "      <td>Data Analyst</td>\n",
       "      <td>Bangalore\\n+9</td>\n",
       "      <td>sahast sales corporation</td>\n",
       "      <td>12 to 22 Yrs</td>\n",
       "    </tr>\n",
       "    <tr>\n",
       "      <th>1</th>\n",
       "      <td>Clinical Data Analyst</td>\n",
       "      <td>Bangalore\\n+6</td>\n",
       "      <td>techno endura</td>\n",
       "      <td>0 to 1 Yr</td>\n",
       "    </tr>\n",
       "    <tr>\n",
       "      <th>2</th>\n",
       "      <td>Data Analyst</td>\n",
       "      <td>Bangalore\\n+9</td>\n",
       "      <td>sahast sales corporation</td>\n",
       "      <td>12 to 22 Yrs</td>\n",
       "    </tr>\n",
       "    <tr>\n",
       "      <th>3</th>\n",
       "      <td>Hiring For Data Analyst</td>\n",
       "      <td>Bangalore\\n+12</td>\n",
       "      <td>radhika enterprises</td>\n",
       "      <td>0 to 4 Yrs</td>\n",
       "    </tr>\n",
       "    <tr>\n",
       "      <th>4</th>\n",
       "      <td>Clinical Data Analyst</td>\n",
       "      <td>Bangalore\\n+6</td>\n",
       "      <td>techno endura</td>\n",
       "      <td>0 to 1 Yr</td>\n",
       "    </tr>\n",
       "    <tr>\n",
       "      <th>5</th>\n",
       "      <td>Lead Data Analyst</td>\n",
       "      <td>Bangalore</td>\n",
       "      <td>ara resources private limited</td>\n",
       "      <td>4 to 9 Yrs</td>\n",
       "    </tr>\n",
       "    <tr>\n",
       "      <th>6</th>\n",
       "      <td>Data Analyst</td>\n",
       "      <td>Bangalore\\n+3</td>\n",
       "      <td>diraa hr services hiring for mncs</td>\n",
       "      <td>0 to 1 Yr</td>\n",
       "    </tr>\n",
       "    <tr>\n",
       "      <th>7</th>\n",
       "      <td>Technical Data Architect</td>\n",
       "      <td>Bangalore</td>\n",
       "      <td>uprighthc solutions private limited</td>\n",
       "      <td>10 to 20 Yrs</td>\n",
       "    </tr>\n",
       "    <tr>\n",
       "      <th>8</th>\n",
       "      <td>Oracle Utilities (customer care &amp; Billing) CC&amp;...</td>\n",
       "      <td>Bangalore\\n+2</td>\n",
       "      <td>ltimindtree limited</td>\n",
       "      <td>5 to 9 Yrs</td>\n",
       "    </tr>\n",
       "    <tr>\n",
       "      <th>9</th>\n",
       "      <td>Clinical Data Associate</td>\n",
       "      <td>Bangalore\\n+6</td>\n",
       "      <td>techno endura</td>\n",
       "      <td>0 to 1 Yr</td>\n",
       "    </tr>\n",
       "  </tbody>\n",
       "</table>\n",
       "</div>"
      ],
      "text/plain": [
       "                                               Title        Location  \\\n",
       "0                                       Data Analyst   Bangalore\\n+9   \n",
       "1                              Clinical Data Analyst   Bangalore\\n+6   \n",
       "2                                       Data Analyst   Bangalore\\n+9   \n",
       "3                            Hiring For Data Analyst  Bangalore\\n+12   \n",
       "4                              Clinical Data Analyst   Bangalore\\n+6   \n",
       "5                                  Lead Data Analyst       Bangalore   \n",
       "6                                       Data Analyst   Bangalore\\n+3   \n",
       "7                           Technical Data Architect       Bangalore   \n",
       "8  Oracle Utilities (customer care & Billing) CC&...   Bangalore\\n+2   \n",
       "9                            Clinical Data Associate   Bangalore\\n+6   \n",
       "\n",
       "                          Company Name Exprience Required  \n",
       "0             sahast sales corporation       12 to 22 Yrs  \n",
       "1                        techno endura          0 to 1 Yr  \n",
       "2             sahast sales corporation       12 to 22 Yrs  \n",
       "3                  radhika enterprises         0 to 4 Yrs  \n",
       "4                        techno endura          0 to 1 Yr  \n",
       "5        ara resources private limited         4 to 9 Yrs  \n",
       "6    diraa hr services hiring for mncs          0 to 1 Yr  \n",
       "7  uprighthc solutions private limited       10 to 20 Yrs  \n",
       "8                  ltimindtree limited         5 to 9 Yrs  \n",
       "9                        techno endura          0 to 1 Yr  "
      ]
     },
     "execution_count": 21,
     "metadata": {},
     "output_type": "execute_result"
    }
   ],
   "source": [
    "import pandas as pd\n",
    "df = pd.DataFrame({'Title':job_title[0:10],'Location':job_location[0:10],'Company Name':company_name[0:10],'Exprience Required':experience_required[0:10]})\n",
    "df"
   ]
  },
  {
   "cell_type": "code",
   "execution_count": null,
   "id": "840ca286",
   "metadata": {},
   "outputs": [],
   "source": []
  }
 ],
 "metadata": {
  "kernelspec": {
   "display_name": "Python 3 (ipykernel)",
   "language": "python",
   "name": "python3"
  },
  "language_info": {
   "codemirror_mode": {
    "name": "ipython",
    "version": 3
   },
   "file_extension": ".py",
   "mimetype": "text/x-python",
   "name": "python",
   "nbconvert_exporter": "python",
   "pygments_lexer": "ipython3",
   "version": "3.11.7"
  }
 },
 "nbformat": 4,
 "nbformat_minor": 5
}
